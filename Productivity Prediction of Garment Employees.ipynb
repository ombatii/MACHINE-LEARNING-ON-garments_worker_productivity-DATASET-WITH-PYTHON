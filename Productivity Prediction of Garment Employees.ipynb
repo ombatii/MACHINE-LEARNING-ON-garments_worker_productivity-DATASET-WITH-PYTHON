{
 "cells": [
  {
   "cell_type": "markdown",
   "id": "7f785d72",
   "metadata": {},
   "source": [
    "# 1.PROBLEM DEFINITION\n",
    "The Garment Industry is one of the key examples of the industrial globalization of this modern era. It is a highly labour-intensive industry with lots of manual processes. Satisfying the huge global demand for garment products is mostly dependent on the production and delivery performance of the employees in the garment manufacturing companies. So, it is highly desirable among the decision makers in the garments industry to track, analyse and predict the productivity performance of the working teams in their factories\n",
    "  > predict the productivity performance of the working teams in their factories given paraments,  predicting the productivity range (0-1)"
   ]
  },
  {
   "cell_type": "markdown",
   "id": "2f88b02c",
   "metadata": {},
   "source": [
    "# 2. Data\n",
    "The dataset used in this project is from kaggle ,link to the site(\"https://www.kaggle.com/datasets/ishadss/productivity-prediction-of-garment-employees\")\n"
   ]
  },
  {
   "cell_type": "markdown",
   "id": "732f203c",
   "metadata": {},
   "source": [
    "# 3. Evaluation\n",
    "In this model the mode of evaluation was R-squared, MAE (Mean absolute error) and RMSE (Root Mean Squared Error)."
   ]
  },
  {
   "cell_type": "markdown",
   "id": "ea6c754d",
   "metadata": {},
   "source": [
    "# 4. Features\n",
    "This dataset includes important attributes of the garment manufacturing process and the productivity of the employees which had been collected manually and also been validated by the industry experts.\n",
    "\n",
    "Attribute Information:\n",
    "\n",
    "01. date : Date in MM-DD-YYYY\n",
    "02. day : Day of the Week\n",
    "03. quarter : A portion of the month. A month was divided into four quarters\n",
    "04. department : Associated department with the instance\n",
    "05. team_no : Associated team number with the instance\n",
    "06. no_of_workers : Number of workers in each team\n",
    "07. no_of_style_change : Number of changes in the style of a particular product\n",
    "08. targeted_productivity : Targeted productivity set by the Authority for each team for each day.\n",
    "09. smv : Standard Minute Value, it is the allocated time for a task\n",
    "10. wip : Work in progress. Includes the number of unfinished items for products\n",
    "11. over_time : Represents the amount of overtime by each team in minutes\n",
    "12. incentive : Represents the amount of financial incentive (in BDT) that enables or motivates a particular course of action.\n",
    "13. idle_time : The amount of time when the production was interrupted due to several reasons\n",
    "14. idle_men : The number of workers who were idle due to production interruption\n",
    "15. actual_productivity : The actual % of productivity that was delivered by the workers. It ranges from 0-1."
   ]
  },
  {
   "cell_type": "markdown",
   "id": "2bbdfaf0",
   "metadata": {},
   "source": [
    "# Preparing the tools\n",
    "* pandas for data analysis.\n",
    "* NumPy for numerical operations.\n",
    "* Matplotlib/seaborn for plotting or data visualization.\n",
    "* Scikit-Learn for machine learning modelling and evaluation.\n",
    "* Seaborne for data visualization"
   ]
  },
  {
   "cell_type": "markdown",
   "id": "68a9d6cb",
   "metadata": {},
   "source": [
    "# Import data analysis tools "
   ]
  },
  {
   "cell_type": "code",
   "execution_count": 1,
   "id": "eacb2d30",
   "metadata": {},
   "outputs": [],
   "source": [
    "import numpy as np\n",
    "import pandas as pd \n",
    "import matplotlib.pyplot as plt\n",
    "import seaborn as sns \n",
    "\n",
    "# We want our plots to appear in the notebook\n",
    "%matplotlib inline"
   ]
  },
  {
   "cell_type": "markdown",
   "id": "732c9776",
   "metadata": {},
   "source": [
    "# Load Data"
   ]
  },
  {
   "cell_type": "code",
   "execution_count": 2,
   "id": "0ab43e99",
   "metadata": {},
   "outputs": [
    {
     "data": {
      "text/plain": [
       "(1197, 15)"
      ]
     },
     "execution_count": 2,
     "metadata": {},
     "output_type": "execute_result"
    }
   ],
   "source": [
    "df = pd.read_csv(\"garments_worker_productivity.csv\",\n",
    "                parse_dates=[\"date\"]) # importing dataset\n",
    "df.shape # (rows, columns)"
   ]
  },
  {
   "cell_type": "code",
   "execution_count": 3,
   "id": "e66fd67c",
   "metadata": {},
   "outputs": [
    {
     "data": {
      "text/html": [
       "<div>\n",
       "<style scoped>\n",
       "    .dataframe tbody tr th:only-of-type {\n",
       "        vertical-align: middle;\n",
       "    }\n",
       "\n",
       "    .dataframe tbody tr th {\n",
       "        vertical-align: top;\n",
       "    }\n",
       "\n",
       "    .dataframe thead th {\n",
       "        text-align: right;\n",
       "    }\n",
       "</style>\n",
       "<table border=\"1\" class=\"dataframe\">\n",
       "  <thead>\n",
       "    <tr style=\"text-align: right;\">\n",
       "      <th></th>\n",
       "      <th>date</th>\n",
       "      <th>quarter</th>\n",
       "      <th>department</th>\n",
       "      <th>day</th>\n",
       "      <th>team</th>\n",
       "      <th>targeted_productivity</th>\n",
       "      <th>smv</th>\n",
       "      <th>wip</th>\n",
       "      <th>over_time</th>\n",
       "      <th>incentive</th>\n",
       "      <th>idle_time</th>\n",
       "      <th>idle_men</th>\n",
       "      <th>no_of_style_change</th>\n",
       "      <th>no_of_workers</th>\n",
       "      <th>actual_productivity</th>\n",
       "    </tr>\n",
       "  </thead>\n",
       "  <tbody>\n",
       "    <tr>\n",
       "      <th>0</th>\n",
       "      <td>2015-01-01</td>\n",
       "      <td>Quarter1</td>\n",
       "      <td>sweing</td>\n",
       "      <td>Thursday</td>\n",
       "      <td>8</td>\n",
       "      <td>0.80</td>\n",
       "      <td>26.16</td>\n",
       "      <td>1108.0</td>\n",
       "      <td>7080</td>\n",
       "      <td>98</td>\n",
       "      <td>0.0</td>\n",
       "      <td>0</td>\n",
       "      <td>0</td>\n",
       "      <td>59.0</td>\n",
       "      <td>0.940725</td>\n",
       "    </tr>\n",
       "    <tr>\n",
       "      <th>1</th>\n",
       "      <td>2015-01-01</td>\n",
       "      <td>Quarter1</td>\n",
       "      <td>finishing</td>\n",
       "      <td>Thursday</td>\n",
       "      <td>1</td>\n",
       "      <td>0.75</td>\n",
       "      <td>3.94</td>\n",
       "      <td>NaN</td>\n",
       "      <td>960</td>\n",
       "      <td>0</td>\n",
       "      <td>0.0</td>\n",
       "      <td>0</td>\n",
       "      <td>0</td>\n",
       "      <td>8.0</td>\n",
       "      <td>0.886500</td>\n",
       "    </tr>\n",
       "    <tr>\n",
       "      <th>2</th>\n",
       "      <td>2015-01-01</td>\n",
       "      <td>Quarter1</td>\n",
       "      <td>sweing</td>\n",
       "      <td>Thursday</td>\n",
       "      <td>11</td>\n",
       "      <td>0.80</td>\n",
       "      <td>11.41</td>\n",
       "      <td>968.0</td>\n",
       "      <td>3660</td>\n",
       "      <td>50</td>\n",
       "      <td>0.0</td>\n",
       "      <td>0</td>\n",
       "      <td>0</td>\n",
       "      <td>30.5</td>\n",
       "      <td>0.800570</td>\n",
       "    </tr>\n",
       "    <tr>\n",
       "      <th>3</th>\n",
       "      <td>2015-01-01</td>\n",
       "      <td>Quarter1</td>\n",
       "      <td>sweing</td>\n",
       "      <td>Thursday</td>\n",
       "      <td>12</td>\n",
       "      <td>0.80</td>\n",
       "      <td>11.41</td>\n",
       "      <td>968.0</td>\n",
       "      <td>3660</td>\n",
       "      <td>50</td>\n",
       "      <td>0.0</td>\n",
       "      <td>0</td>\n",
       "      <td>0</td>\n",
       "      <td>30.5</td>\n",
       "      <td>0.800570</td>\n",
       "    </tr>\n",
       "    <tr>\n",
       "      <th>4</th>\n",
       "      <td>2015-01-01</td>\n",
       "      <td>Quarter1</td>\n",
       "      <td>sweing</td>\n",
       "      <td>Thursday</td>\n",
       "      <td>6</td>\n",
       "      <td>0.80</td>\n",
       "      <td>25.90</td>\n",
       "      <td>1170.0</td>\n",
       "      <td>1920</td>\n",
       "      <td>50</td>\n",
       "      <td>0.0</td>\n",
       "      <td>0</td>\n",
       "      <td>0</td>\n",
       "      <td>56.0</td>\n",
       "      <td>0.800382</td>\n",
       "    </tr>\n",
       "    <tr>\n",
       "      <th>5</th>\n",
       "      <td>2015-01-01</td>\n",
       "      <td>Quarter1</td>\n",
       "      <td>sweing</td>\n",
       "      <td>Thursday</td>\n",
       "      <td>7</td>\n",
       "      <td>0.80</td>\n",
       "      <td>25.90</td>\n",
       "      <td>984.0</td>\n",
       "      <td>6720</td>\n",
       "      <td>38</td>\n",
       "      <td>0.0</td>\n",
       "      <td>0</td>\n",
       "      <td>0</td>\n",
       "      <td>56.0</td>\n",
       "      <td>0.800125</td>\n",
       "    </tr>\n",
       "    <tr>\n",
       "      <th>6</th>\n",
       "      <td>2015-01-01</td>\n",
       "      <td>Quarter1</td>\n",
       "      <td>finishing</td>\n",
       "      <td>Thursday</td>\n",
       "      <td>2</td>\n",
       "      <td>0.75</td>\n",
       "      <td>3.94</td>\n",
       "      <td>NaN</td>\n",
       "      <td>960</td>\n",
       "      <td>0</td>\n",
       "      <td>0.0</td>\n",
       "      <td>0</td>\n",
       "      <td>0</td>\n",
       "      <td>8.0</td>\n",
       "      <td>0.755167</td>\n",
       "    </tr>\n",
       "    <tr>\n",
       "      <th>7</th>\n",
       "      <td>2015-01-01</td>\n",
       "      <td>Quarter1</td>\n",
       "      <td>sweing</td>\n",
       "      <td>Thursday</td>\n",
       "      <td>3</td>\n",
       "      <td>0.75</td>\n",
       "      <td>28.08</td>\n",
       "      <td>795.0</td>\n",
       "      <td>6900</td>\n",
       "      <td>45</td>\n",
       "      <td>0.0</td>\n",
       "      <td>0</td>\n",
       "      <td>0</td>\n",
       "      <td>57.5</td>\n",
       "      <td>0.753683</td>\n",
       "    </tr>\n",
       "    <tr>\n",
       "      <th>8</th>\n",
       "      <td>2015-01-01</td>\n",
       "      <td>Quarter1</td>\n",
       "      <td>sweing</td>\n",
       "      <td>Thursday</td>\n",
       "      <td>2</td>\n",
       "      <td>0.75</td>\n",
       "      <td>19.87</td>\n",
       "      <td>733.0</td>\n",
       "      <td>6000</td>\n",
       "      <td>34</td>\n",
       "      <td>0.0</td>\n",
       "      <td>0</td>\n",
       "      <td>0</td>\n",
       "      <td>55.0</td>\n",
       "      <td>0.753098</td>\n",
       "    </tr>\n",
       "    <tr>\n",
       "      <th>9</th>\n",
       "      <td>2015-01-01</td>\n",
       "      <td>Quarter1</td>\n",
       "      <td>sweing</td>\n",
       "      <td>Thursday</td>\n",
       "      <td>1</td>\n",
       "      <td>0.75</td>\n",
       "      <td>28.08</td>\n",
       "      <td>681.0</td>\n",
       "      <td>6900</td>\n",
       "      <td>45</td>\n",
       "      <td>0.0</td>\n",
       "      <td>0</td>\n",
       "      <td>0</td>\n",
       "      <td>57.5</td>\n",
       "      <td>0.750428</td>\n",
       "    </tr>\n",
       "  </tbody>\n",
       "</table>\n",
       "</div>"
      ],
      "text/plain": [
       "        date   quarter  department       day  team  targeted_productivity  \\\n",
       "0 2015-01-01  Quarter1      sweing  Thursday     8                   0.80   \n",
       "1 2015-01-01  Quarter1  finishing   Thursday     1                   0.75   \n",
       "2 2015-01-01  Quarter1      sweing  Thursday    11                   0.80   \n",
       "3 2015-01-01  Quarter1      sweing  Thursday    12                   0.80   \n",
       "4 2015-01-01  Quarter1      sweing  Thursday     6                   0.80   \n",
       "5 2015-01-01  Quarter1      sweing  Thursday     7                   0.80   \n",
       "6 2015-01-01  Quarter1  finishing   Thursday     2                   0.75   \n",
       "7 2015-01-01  Quarter1      sweing  Thursday     3                   0.75   \n",
       "8 2015-01-01  Quarter1      sweing  Thursday     2                   0.75   \n",
       "9 2015-01-01  Quarter1      sweing  Thursday     1                   0.75   \n",
       "\n",
       "     smv     wip  over_time  incentive  idle_time  idle_men  \\\n",
       "0  26.16  1108.0       7080         98        0.0         0   \n",
       "1   3.94     NaN        960          0        0.0         0   \n",
       "2  11.41   968.0       3660         50        0.0         0   \n",
       "3  11.41   968.0       3660         50        0.0         0   \n",
       "4  25.90  1170.0       1920         50        0.0         0   \n",
       "5  25.90   984.0       6720         38        0.0         0   \n",
       "6   3.94     NaN        960          0        0.0         0   \n",
       "7  28.08   795.0       6900         45        0.0         0   \n",
       "8  19.87   733.0       6000         34        0.0         0   \n",
       "9  28.08   681.0       6900         45        0.0         0   \n",
       "\n",
       "   no_of_style_change  no_of_workers  actual_productivity  \n",
       "0                   0           59.0             0.940725  \n",
       "1                   0            8.0             0.886500  \n",
       "2                   0           30.5             0.800570  \n",
       "3                   0           30.5             0.800570  \n",
       "4                   0           56.0             0.800382  \n",
       "5                   0           56.0             0.800125  \n",
       "6                   0            8.0             0.755167  \n",
       "7                   0           57.5             0.753683  \n",
       "8                   0           55.0             0.753098  \n",
       "9                   0           57.5             0.750428  "
      ]
     },
     "execution_count": 3,
     "metadata": {},
     "output_type": "execute_result"
    }
   ],
   "source": [
    "# top 10 rows of our dataframe\n",
    "df.head(10)"
   ]
  },
  {
   "cell_type": "code",
   "execution_count": 4,
   "id": "527d3db2",
   "metadata": {},
   "outputs": [
    {
     "name": "stdout",
     "output_type": "stream",
     "text": [
      "<class 'pandas.core.frame.DataFrame'>\n",
      "RangeIndex: 1197 entries, 0 to 1196\n",
      "Data columns (total 15 columns):\n",
      " #   Column                 Non-Null Count  Dtype         \n",
      "---  ------                 --------------  -----         \n",
      " 0   date                   1197 non-null   datetime64[ns]\n",
      " 1   quarter                1197 non-null   object        \n",
      " 2   department             1197 non-null   object        \n",
      " 3   day                    1197 non-null   object        \n",
      " 4   team                   1197 non-null   int64         \n",
      " 5   targeted_productivity  1197 non-null   float64       \n",
      " 6   smv                    1197 non-null   float64       \n",
      " 7   wip                    691 non-null    float64       \n",
      " 8   over_time              1197 non-null   int64         \n",
      " 9   incentive              1197 non-null   int64         \n",
      " 10  idle_time              1197 non-null   float64       \n",
      " 11  idle_men               1197 non-null   int64         \n",
      " 12  no_of_style_change     1197 non-null   int64         \n",
      " 13  no_of_workers          1197 non-null   float64       \n",
      " 14  actual_productivity    1197 non-null   float64       \n",
      "dtypes: datetime64[ns](1), float64(6), int64(5), object(3)\n",
      "memory usage: 140.4+ KB\n"
     ]
    }
   ],
   "source": [
    "# get information about data types of the column and missing data\n",
    "df.info()"
   ]
  },
  {
   "cell_type": "code",
   "execution_count": 5,
   "id": "f9a53d73",
   "metadata": {},
   "outputs": [
    {
     "data": {
      "text/html": [
       "<div>\n",
       "<style scoped>\n",
       "    .dataframe tbody tr th:only-of-type {\n",
       "        vertical-align: middle;\n",
       "    }\n",
       "\n",
       "    .dataframe tbody tr th {\n",
       "        vertical-align: top;\n",
       "    }\n",
       "\n",
       "    .dataframe thead th {\n",
       "        text-align: right;\n",
       "    }\n",
       "</style>\n",
       "<table border=\"1\" class=\"dataframe\">\n",
       "  <thead>\n",
       "    <tr style=\"text-align: right;\">\n",
       "      <th></th>\n",
       "      <th>0</th>\n",
       "      <th>1</th>\n",
       "      <th>2</th>\n",
       "      <th>3</th>\n",
       "      <th>4</th>\n",
       "      <th>5</th>\n",
       "      <th>6</th>\n",
       "      <th>7</th>\n",
       "      <th>8</th>\n",
       "      <th>9</th>\n",
       "    </tr>\n",
       "  </thead>\n",
       "  <tbody>\n",
       "    <tr>\n",
       "      <th>date</th>\n",
       "      <td>2015-01-01 00:00:00</td>\n",
       "      <td>2015-01-01 00:00:00</td>\n",
       "      <td>2015-01-01 00:00:00</td>\n",
       "      <td>2015-01-01 00:00:00</td>\n",
       "      <td>2015-01-01 00:00:00</td>\n",
       "      <td>2015-01-01 00:00:00</td>\n",
       "      <td>2015-01-01 00:00:00</td>\n",
       "      <td>2015-01-01 00:00:00</td>\n",
       "      <td>2015-01-01 00:00:00</td>\n",
       "      <td>2015-01-01 00:00:00</td>\n",
       "    </tr>\n",
       "    <tr>\n",
       "      <th>quarter</th>\n",
       "      <td>Quarter1</td>\n",
       "      <td>Quarter1</td>\n",
       "      <td>Quarter1</td>\n",
       "      <td>Quarter1</td>\n",
       "      <td>Quarter1</td>\n",
       "      <td>Quarter1</td>\n",
       "      <td>Quarter1</td>\n",
       "      <td>Quarter1</td>\n",
       "      <td>Quarter1</td>\n",
       "      <td>Quarter1</td>\n",
       "    </tr>\n",
       "    <tr>\n",
       "      <th>department</th>\n",
       "      <td>sweing</td>\n",
       "      <td>finishing</td>\n",
       "      <td>sweing</td>\n",
       "      <td>sweing</td>\n",
       "      <td>sweing</td>\n",
       "      <td>sweing</td>\n",
       "      <td>finishing</td>\n",
       "      <td>sweing</td>\n",
       "      <td>sweing</td>\n",
       "      <td>sweing</td>\n",
       "    </tr>\n",
       "    <tr>\n",
       "      <th>day</th>\n",
       "      <td>Thursday</td>\n",
       "      <td>Thursday</td>\n",
       "      <td>Thursday</td>\n",
       "      <td>Thursday</td>\n",
       "      <td>Thursday</td>\n",
       "      <td>Thursday</td>\n",
       "      <td>Thursday</td>\n",
       "      <td>Thursday</td>\n",
       "      <td>Thursday</td>\n",
       "      <td>Thursday</td>\n",
       "    </tr>\n",
       "    <tr>\n",
       "      <th>team</th>\n",
       "      <td>8</td>\n",
       "      <td>1</td>\n",
       "      <td>11</td>\n",
       "      <td>12</td>\n",
       "      <td>6</td>\n",
       "      <td>7</td>\n",
       "      <td>2</td>\n",
       "      <td>3</td>\n",
       "      <td>2</td>\n",
       "      <td>1</td>\n",
       "    </tr>\n",
       "    <tr>\n",
       "      <th>targeted_productivity</th>\n",
       "      <td>0.8</td>\n",
       "      <td>0.75</td>\n",
       "      <td>0.8</td>\n",
       "      <td>0.8</td>\n",
       "      <td>0.8</td>\n",
       "      <td>0.8</td>\n",
       "      <td>0.75</td>\n",
       "      <td>0.75</td>\n",
       "      <td>0.75</td>\n",
       "      <td>0.75</td>\n",
       "    </tr>\n",
       "    <tr>\n",
       "      <th>smv</th>\n",
       "      <td>26.16</td>\n",
       "      <td>3.94</td>\n",
       "      <td>11.41</td>\n",
       "      <td>11.41</td>\n",
       "      <td>25.9</td>\n",
       "      <td>25.9</td>\n",
       "      <td>3.94</td>\n",
       "      <td>28.08</td>\n",
       "      <td>19.87</td>\n",
       "      <td>28.08</td>\n",
       "    </tr>\n",
       "    <tr>\n",
       "      <th>wip</th>\n",
       "      <td>1108.0</td>\n",
       "      <td>NaN</td>\n",
       "      <td>968.0</td>\n",
       "      <td>968.0</td>\n",
       "      <td>1170.0</td>\n",
       "      <td>984.0</td>\n",
       "      <td>NaN</td>\n",
       "      <td>795.0</td>\n",
       "      <td>733.0</td>\n",
       "      <td>681.0</td>\n",
       "    </tr>\n",
       "    <tr>\n",
       "      <th>over_time</th>\n",
       "      <td>7080</td>\n",
       "      <td>960</td>\n",
       "      <td>3660</td>\n",
       "      <td>3660</td>\n",
       "      <td>1920</td>\n",
       "      <td>6720</td>\n",
       "      <td>960</td>\n",
       "      <td>6900</td>\n",
       "      <td>6000</td>\n",
       "      <td>6900</td>\n",
       "    </tr>\n",
       "    <tr>\n",
       "      <th>incentive</th>\n",
       "      <td>98</td>\n",
       "      <td>0</td>\n",
       "      <td>50</td>\n",
       "      <td>50</td>\n",
       "      <td>50</td>\n",
       "      <td>38</td>\n",
       "      <td>0</td>\n",
       "      <td>45</td>\n",
       "      <td>34</td>\n",
       "      <td>45</td>\n",
       "    </tr>\n",
       "    <tr>\n",
       "      <th>idle_time</th>\n",
       "      <td>0.0</td>\n",
       "      <td>0.0</td>\n",
       "      <td>0.0</td>\n",
       "      <td>0.0</td>\n",
       "      <td>0.0</td>\n",
       "      <td>0.0</td>\n",
       "      <td>0.0</td>\n",
       "      <td>0.0</td>\n",
       "      <td>0.0</td>\n",
       "      <td>0.0</td>\n",
       "    </tr>\n",
       "    <tr>\n",
       "      <th>idle_men</th>\n",
       "      <td>0</td>\n",
       "      <td>0</td>\n",
       "      <td>0</td>\n",
       "      <td>0</td>\n",
       "      <td>0</td>\n",
       "      <td>0</td>\n",
       "      <td>0</td>\n",
       "      <td>0</td>\n",
       "      <td>0</td>\n",
       "      <td>0</td>\n",
       "    </tr>\n",
       "    <tr>\n",
       "      <th>no_of_style_change</th>\n",
       "      <td>0</td>\n",
       "      <td>0</td>\n",
       "      <td>0</td>\n",
       "      <td>0</td>\n",
       "      <td>0</td>\n",
       "      <td>0</td>\n",
       "      <td>0</td>\n",
       "      <td>0</td>\n",
       "      <td>0</td>\n",
       "      <td>0</td>\n",
       "    </tr>\n",
       "    <tr>\n",
       "      <th>no_of_workers</th>\n",
       "      <td>59.0</td>\n",
       "      <td>8.0</td>\n",
       "      <td>30.5</td>\n",
       "      <td>30.5</td>\n",
       "      <td>56.0</td>\n",
       "      <td>56.0</td>\n",
       "      <td>8.0</td>\n",
       "      <td>57.5</td>\n",
       "      <td>55.0</td>\n",
       "      <td>57.5</td>\n",
       "    </tr>\n",
       "    <tr>\n",
       "      <th>actual_productivity</th>\n",
       "      <td>0.940725</td>\n",
       "      <td>0.8865</td>\n",
       "      <td>0.80057</td>\n",
       "      <td>0.80057</td>\n",
       "      <td>0.800382</td>\n",
       "      <td>0.800125</td>\n",
       "      <td>0.755167</td>\n",
       "      <td>0.753683</td>\n",
       "      <td>0.753098</td>\n",
       "      <td>0.750428</td>\n",
       "    </tr>\n",
       "  </tbody>\n",
       "</table>\n",
       "</div>"
      ],
      "text/plain": [
       "                                         0                    1  \\\n",
       "date                   2015-01-01 00:00:00  2015-01-01 00:00:00   \n",
       "quarter                           Quarter1             Quarter1   \n",
       "department                          sweing           finishing    \n",
       "day                               Thursday             Thursday   \n",
       "team                                     8                    1   \n",
       "targeted_productivity                  0.8                 0.75   \n",
       "smv                                  26.16                 3.94   \n",
       "wip                                 1108.0                  NaN   \n",
       "over_time                             7080                  960   \n",
       "incentive                               98                    0   \n",
       "idle_time                              0.0                  0.0   \n",
       "idle_men                                 0                    0   \n",
       "no_of_style_change                       0                    0   \n",
       "no_of_workers                         59.0                  8.0   \n",
       "actual_productivity               0.940725               0.8865   \n",
       "\n",
       "                                         2                    3  \\\n",
       "date                   2015-01-01 00:00:00  2015-01-01 00:00:00   \n",
       "quarter                           Quarter1             Quarter1   \n",
       "department                          sweing               sweing   \n",
       "day                               Thursday             Thursday   \n",
       "team                                    11                   12   \n",
       "targeted_productivity                  0.8                  0.8   \n",
       "smv                                  11.41                11.41   \n",
       "wip                                  968.0                968.0   \n",
       "over_time                             3660                 3660   \n",
       "incentive                               50                   50   \n",
       "idle_time                              0.0                  0.0   \n",
       "idle_men                                 0                    0   \n",
       "no_of_style_change                       0                    0   \n",
       "no_of_workers                         30.5                 30.5   \n",
       "actual_productivity                0.80057              0.80057   \n",
       "\n",
       "                                         4                    5  \\\n",
       "date                   2015-01-01 00:00:00  2015-01-01 00:00:00   \n",
       "quarter                           Quarter1             Quarter1   \n",
       "department                          sweing               sweing   \n",
       "day                               Thursday             Thursday   \n",
       "team                                     6                    7   \n",
       "targeted_productivity                  0.8                  0.8   \n",
       "smv                                   25.9                 25.9   \n",
       "wip                                 1170.0                984.0   \n",
       "over_time                             1920                 6720   \n",
       "incentive                               50                   38   \n",
       "idle_time                              0.0                  0.0   \n",
       "idle_men                                 0                    0   \n",
       "no_of_style_change                       0                    0   \n",
       "no_of_workers                         56.0                 56.0   \n",
       "actual_productivity               0.800382             0.800125   \n",
       "\n",
       "                                         6                    7  \\\n",
       "date                   2015-01-01 00:00:00  2015-01-01 00:00:00   \n",
       "quarter                           Quarter1             Quarter1   \n",
       "department                      finishing                sweing   \n",
       "day                               Thursday             Thursday   \n",
       "team                                     2                    3   \n",
       "targeted_productivity                 0.75                 0.75   \n",
       "smv                                   3.94                28.08   \n",
       "wip                                    NaN                795.0   \n",
       "over_time                              960                 6900   \n",
       "incentive                                0                   45   \n",
       "idle_time                              0.0                  0.0   \n",
       "idle_men                                 0                    0   \n",
       "no_of_style_change                       0                    0   \n",
       "no_of_workers                          8.0                 57.5   \n",
       "actual_productivity               0.755167             0.753683   \n",
       "\n",
       "                                         8                    9  \n",
       "date                   2015-01-01 00:00:00  2015-01-01 00:00:00  \n",
       "quarter                           Quarter1             Quarter1  \n",
       "department                          sweing               sweing  \n",
       "day                               Thursday             Thursday  \n",
       "team                                     2                    1  \n",
       "targeted_productivity                 0.75                 0.75  \n",
       "smv                                  19.87                28.08  \n",
       "wip                                  733.0                681.0  \n",
       "over_time                             6000                 6900  \n",
       "incentive                               34                   45  \n",
       "idle_time                              0.0                  0.0  \n",
       "idle_men                                 0                    0  \n",
       "no_of_style_change                       0                    0  \n",
       "no_of_workers                         55.0                 57.5  \n",
       "actual_productivity               0.753098             0.750428  "
      ]
     },
     "execution_count": 5,
     "metadata": {},
     "output_type": "execute_result"
    }
   ],
   "source": [
    "# top 10 rows\n",
    "df.head(10).T"
   ]
  },
  {
   "cell_type": "code",
   "execution_count": 6,
   "id": "f96438f3",
   "metadata": {},
   "outputs": [
    {
     "data": {
      "text/html": [
       "<div>\n",
       "<style scoped>\n",
       "    .dataframe tbody tr th:only-of-type {\n",
       "        vertical-align: middle;\n",
       "    }\n",
       "\n",
       "    .dataframe tbody tr th {\n",
       "        vertical-align: top;\n",
       "    }\n",
       "\n",
       "    .dataframe thead th {\n",
       "        text-align: right;\n",
       "    }\n",
       "</style>\n",
       "<table border=\"1\" class=\"dataframe\">\n",
       "  <thead>\n",
       "    <tr style=\"text-align: right;\">\n",
       "      <th></th>\n",
       "      <th>1187</th>\n",
       "      <th>1188</th>\n",
       "      <th>1189</th>\n",
       "      <th>1190</th>\n",
       "      <th>1191</th>\n",
       "      <th>1192</th>\n",
       "      <th>1193</th>\n",
       "      <th>1194</th>\n",
       "      <th>1195</th>\n",
       "      <th>1196</th>\n",
       "    </tr>\n",
       "  </thead>\n",
       "  <tbody>\n",
       "    <tr>\n",
       "      <th>date</th>\n",
       "      <td>2015-03-11 00:00:00</td>\n",
       "      <td>2015-03-11 00:00:00</td>\n",
       "      <td>2015-03-11 00:00:00</td>\n",
       "      <td>2015-03-11 00:00:00</td>\n",
       "      <td>2015-03-11 00:00:00</td>\n",
       "      <td>2015-03-11 00:00:00</td>\n",
       "      <td>2015-03-11 00:00:00</td>\n",
       "      <td>2015-03-11 00:00:00</td>\n",
       "      <td>2015-03-11 00:00:00</td>\n",
       "      <td>2015-03-11 00:00:00</td>\n",
       "    </tr>\n",
       "    <tr>\n",
       "      <th>quarter</th>\n",
       "      <td>Quarter2</td>\n",
       "      <td>Quarter2</td>\n",
       "      <td>Quarter2</td>\n",
       "      <td>Quarter2</td>\n",
       "      <td>Quarter2</td>\n",
       "      <td>Quarter2</td>\n",
       "      <td>Quarter2</td>\n",
       "      <td>Quarter2</td>\n",
       "      <td>Quarter2</td>\n",
       "      <td>Quarter2</td>\n",
       "    </tr>\n",
       "    <tr>\n",
       "      <th>department</th>\n",
       "      <td>sweing</td>\n",
       "      <td>sweing</td>\n",
       "      <td>sweing</td>\n",
       "      <td>sweing</td>\n",
       "      <td>sweing</td>\n",
       "      <td>finishing</td>\n",
       "      <td>finishing</td>\n",
       "      <td>finishing</td>\n",
       "      <td>finishing</td>\n",
       "      <td>finishing</td>\n",
       "    </tr>\n",
       "    <tr>\n",
       "      <th>day</th>\n",
       "      <td>Wednesday</td>\n",
       "      <td>Wednesday</td>\n",
       "      <td>Wednesday</td>\n",
       "      <td>Wednesday</td>\n",
       "      <td>Wednesday</td>\n",
       "      <td>Wednesday</td>\n",
       "      <td>Wednesday</td>\n",
       "      <td>Wednesday</td>\n",
       "      <td>Wednesday</td>\n",
       "      <td>Wednesday</td>\n",
       "    </tr>\n",
       "    <tr>\n",
       "      <th>team</th>\n",
       "      <td>4</td>\n",
       "      <td>5</td>\n",
       "      <td>8</td>\n",
       "      <td>6</td>\n",
       "      <td>7</td>\n",
       "      <td>10</td>\n",
       "      <td>8</td>\n",
       "      <td>7</td>\n",
       "      <td>9</td>\n",
       "      <td>6</td>\n",
       "    </tr>\n",
       "    <tr>\n",
       "      <th>targeted_productivity</th>\n",
       "      <td>0.75</td>\n",
       "      <td>0.7</td>\n",
       "      <td>0.7</td>\n",
       "      <td>0.7</td>\n",
       "      <td>0.65</td>\n",
       "      <td>0.75</td>\n",
       "      <td>0.7</td>\n",
       "      <td>0.65</td>\n",
       "      <td>0.75</td>\n",
       "      <td>0.7</td>\n",
       "    </tr>\n",
       "    <tr>\n",
       "      <th>smv</th>\n",
       "      <td>26.82</td>\n",
       "      <td>26.82</td>\n",
       "      <td>30.48</td>\n",
       "      <td>23.41</td>\n",
       "      <td>30.48</td>\n",
       "      <td>2.9</td>\n",
       "      <td>3.9</td>\n",
       "      <td>3.9</td>\n",
       "      <td>2.9</td>\n",
       "      <td>2.9</td>\n",
       "    </tr>\n",
       "    <tr>\n",
       "      <th>wip</th>\n",
       "      <td>1054.0</td>\n",
       "      <td>992.0</td>\n",
       "      <td>914.0</td>\n",
       "      <td>1128.0</td>\n",
       "      <td>935.0</td>\n",
       "      <td>NaN</td>\n",
       "      <td>NaN</td>\n",
       "      <td>NaN</td>\n",
       "      <td>NaN</td>\n",
       "      <td>NaN</td>\n",
       "    </tr>\n",
       "    <tr>\n",
       "      <th>over_time</th>\n",
       "      <td>7080</td>\n",
       "      <td>6960</td>\n",
       "      <td>6840</td>\n",
       "      <td>4560</td>\n",
       "      <td>6840</td>\n",
       "      <td>960</td>\n",
       "      <td>960</td>\n",
       "      <td>960</td>\n",
       "      <td>1800</td>\n",
       "      <td>720</td>\n",
       "    </tr>\n",
       "    <tr>\n",
       "      <th>incentive</th>\n",
       "      <td>45</td>\n",
       "      <td>30</td>\n",
       "      <td>30</td>\n",
       "      <td>40</td>\n",
       "      <td>26</td>\n",
       "      <td>0</td>\n",
       "      <td>0</td>\n",
       "      <td>0</td>\n",
       "      <td>0</td>\n",
       "      <td>0</td>\n",
       "    </tr>\n",
       "    <tr>\n",
       "      <th>idle_time</th>\n",
       "      <td>0.0</td>\n",
       "      <td>0.0</td>\n",
       "      <td>0.0</td>\n",
       "      <td>0.0</td>\n",
       "      <td>0.0</td>\n",
       "      <td>0.0</td>\n",
       "      <td>0.0</td>\n",
       "      <td>0.0</td>\n",
       "      <td>0.0</td>\n",
       "      <td>0.0</td>\n",
       "    </tr>\n",
       "    <tr>\n",
       "      <th>idle_men</th>\n",
       "      <td>0</td>\n",
       "      <td>0</td>\n",
       "      <td>0</td>\n",
       "      <td>0</td>\n",
       "      <td>0</td>\n",
       "      <td>0</td>\n",
       "      <td>0</td>\n",
       "      <td>0</td>\n",
       "      <td>0</td>\n",
       "      <td>0</td>\n",
       "    </tr>\n",
       "    <tr>\n",
       "      <th>no_of_style_change</th>\n",
       "      <td>0</td>\n",
       "      <td>1</td>\n",
       "      <td>1</td>\n",
       "      <td>1</td>\n",
       "      <td>1</td>\n",
       "      <td>0</td>\n",
       "      <td>0</td>\n",
       "      <td>0</td>\n",
       "      <td>0</td>\n",
       "      <td>0</td>\n",
       "    </tr>\n",
       "    <tr>\n",
       "      <th>no_of_workers</th>\n",
       "      <td>59.0</td>\n",
       "      <td>58.0</td>\n",
       "      <td>57.0</td>\n",
       "      <td>38.0</td>\n",
       "      <td>57.0</td>\n",
       "      <td>8.0</td>\n",
       "      <td>8.0</td>\n",
       "      <td>8.0</td>\n",
       "      <td>15.0</td>\n",
       "      <td>6.0</td>\n",
       "    </tr>\n",
       "    <tr>\n",
       "      <th>actual_productivity</th>\n",
       "      <td>0.750051</td>\n",
       "      <td>0.700557</td>\n",
       "      <td>0.700505</td>\n",
       "      <td>0.700246</td>\n",
       "      <td>0.650596</td>\n",
       "      <td>0.628333</td>\n",
       "      <td>0.625625</td>\n",
       "      <td>0.625625</td>\n",
       "      <td>0.505889</td>\n",
       "      <td>0.394722</td>\n",
       "    </tr>\n",
       "  </tbody>\n",
       "</table>\n",
       "</div>"
      ],
      "text/plain": [
       "                                      1187                 1188  \\\n",
       "date                   2015-03-11 00:00:00  2015-03-11 00:00:00   \n",
       "quarter                           Quarter2             Quarter2   \n",
       "department                          sweing               sweing   \n",
       "day                              Wednesday            Wednesday   \n",
       "team                                     4                    5   \n",
       "targeted_productivity                 0.75                  0.7   \n",
       "smv                                  26.82                26.82   \n",
       "wip                                 1054.0                992.0   \n",
       "over_time                             7080                 6960   \n",
       "incentive                               45                   30   \n",
       "idle_time                              0.0                  0.0   \n",
       "idle_men                                 0                    0   \n",
       "no_of_style_change                       0                    1   \n",
       "no_of_workers                         59.0                 58.0   \n",
       "actual_productivity               0.750051             0.700557   \n",
       "\n",
       "                                      1189                 1190  \\\n",
       "date                   2015-03-11 00:00:00  2015-03-11 00:00:00   \n",
       "quarter                           Quarter2             Quarter2   \n",
       "department                          sweing               sweing   \n",
       "day                              Wednesday            Wednesday   \n",
       "team                                     8                    6   \n",
       "targeted_productivity                  0.7                  0.7   \n",
       "smv                                  30.48                23.41   \n",
       "wip                                  914.0               1128.0   \n",
       "over_time                             6840                 4560   \n",
       "incentive                               30                   40   \n",
       "idle_time                              0.0                  0.0   \n",
       "idle_men                                 0                    0   \n",
       "no_of_style_change                       1                    1   \n",
       "no_of_workers                         57.0                 38.0   \n",
       "actual_productivity               0.700505             0.700246   \n",
       "\n",
       "                                      1191                 1192  \\\n",
       "date                   2015-03-11 00:00:00  2015-03-11 00:00:00   \n",
       "quarter                           Quarter2             Quarter2   \n",
       "department                          sweing            finishing   \n",
       "day                              Wednesday            Wednesday   \n",
       "team                                     7                   10   \n",
       "targeted_productivity                 0.65                 0.75   \n",
       "smv                                  30.48                  2.9   \n",
       "wip                                  935.0                  NaN   \n",
       "over_time                             6840                  960   \n",
       "incentive                               26                    0   \n",
       "idle_time                              0.0                  0.0   \n",
       "idle_men                                 0                    0   \n",
       "no_of_style_change                       1                    0   \n",
       "no_of_workers                         57.0                  8.0   \n",
       "actual_productivity               0.650596             0.628333   \n",
       "\n",
       "                                      1193                 1194  \\\n",
       "date                   2015-03-11 00:00:00  2015-03-11 00:00:00   \n",
       "quarter                           Quarter2             Quarter2   \n",
       "department                       finishing            finishing   \n",
       "day                              Wednesday            Wednesday   \n",
       "team                                     8                    7   \n",
       "targeted_productivity                  0.7                 0.65   \n",
       "smv                                    3.9                  3.9   \n",
       "wip                                    NaN                  NaN   \n",
       "over_time                              960                  960   \n",
       "incentive                                0                    0   \n",
       "idle_time                              0.0                  0.0   \n",
       "idle_men                                 0                    0   \n",
       "no_of_style_change                       0                    0   \n",
       "no_of_workers                          8.0                  8.0   \n",
       "actual_productivity               0.625625             0.625625   \n",
       "\n",
       "                                      1195                 1196  \n",
       "date                   2015-03-11 00:00:00  2015-03-11 00:00:00  \n",
       "quarter                           Quarter2             Quarter2  \n",
       "department                       finishing            finishing  \n",
       "day                              Wednesday            Wednesday  \n",
       "team                                     9                    6  \n",
       "targeted_productivity                 0.75                  0.7  \n",
       "smv                                    2.9                  2.9  \n",
       "wip                                    NaN                  NaN  \n",
       "over_time                             1800                  720  \n",
       "incentive                                0                    0  \n",
       "idle_time                              0.0                  0.0  \n",
       "idle_men                                 0                    0  \n",
       "no_of_style_change                       0                    0  \n",
       "no_of_workers                         15.0                  6.0  \n",
       "actual_productivity               0.505889             0.394722  "
      ]
     },
     "execution_count": 6,
     "metadata": {},
     "output_type": "execute_result"
    }
   ],
   "source": [
    "# bottom 10 rows\n",
    "df.tail(10).T"
   ]
  },
  {
   "cell_type": "code",
   "execution_count": 7,
   "id": "bc7b5dd5",
   "metadata": {},
   "outputs": [
    {
     "data": {
      "text/plain": [
       "Index(['date', 'quarter', 'department', 'day', 'team', 'targeted_productivity',\n",
       "       'smv', 'wip', 'over_time', 'incentive', 'idle_time', 'idle_men',\n",
       "       'no_of_style_change', 'no_of_workers', 'actual_productivity'],\n",
       "      dtype='object')"
      ]
     },
     "execution_count": 7,
     "metadata": {},
     "output_type": "execute_result"
    }
   ],
   "source": [
    "# Names of columns\n",
    "df.columns"
   ]
  },
  {
   "cell_type": "code",
   "execution_count": 8,
   "id": "3df0a824",
   "metadata": {},
   "outputs": [
    {
     "data": {
      "text/plain": [
       "Quarter1    360\n",
       "Quarter2    335\n",
       "Quarter4    248\n",
       "Quarter3    210\n",
       "Quarter5     44\n",
       "Name: quarter, dtype: int64"
      ]
     },
     "execution_count": 8,
     "metadata": {},
     "output_type": "execute_result"
    }
   ],
   "source": [
    "#value count of quarter\n",
    "df.quarter.value_counts()"
   ]
  },
  {
   "cell_type": "code",
   "execution_count": 9,
   "id": "eb03aed5",
   "metadata": {},
   "outputs": [
    {
     "data": {
      "text/plain": [
       "sweing        691\n",
       "finishing     257\n",
       "finishing     249\n",
       "Name: department, dtype: int64"
      ]
     },
     "execution_count": 9,
     "metadata": {},
     "output_type": "execute_result"
    }
   ],
   "source": [
    "#value count of department\n",
    "df.department.value_counts()"
   ]
  },
  {
   "cell_type": "code",
   "execution_count": 10,
   "id": "b5d2b4b7",
   "metadata": {},
   "outputs": [
    {
     "data": {
      "text/plain": [
       "0.80    540\n",
       "0.70    242\n",
       "0.75    216\n",
       "0.65     63\n",
       "0.60     57\n",
       "0.50     49\n",
       "0.35     27\n",
       "0.40      2\n",
       "0.07      1\n",
       "Name: targeted_productivity, dtype: int64"
      ]
     },
     "execution_count": 10,
     "metadata": {},
     "output_type": "execute_result"
    }
   ],
   "source": [
    "#value count of targeted_productivity\n",
    "df.targeted_productivity.value_counts()"
   ]
  },
  {
   "cell_type": "code",
   "execution_count": 11,
   "id": "b68c743c",
   "metadata": {},
   "outputs": [
    {
     "data": {
      "text/plain": [
       "Wednesday    208\n",
       "Sunday       203\n",
       "Tuesday      201\n",
       "Thursday     199\n",
       "Monday       199\n",
       "Saturday     187\n",
       "Name: day, dtype: int64"
      ]
     },
     "execution_count": 11,
     "metadata": {},
     "output_type": "execute_result"
    }
   ],
   "source": [
    "#value count of day\n",
    "df.day.value_counts()"
   ]
  },
  {
   "cell_type": "code",
   "execution_count": 12,
   "id": "02a77aa1",
   "metadata": {},
   "outputs": [
    {
     "data": {
      "text/plain": [
       "8     109\n",
       "2     109\n",
       "1     105\n",
       "4     105\n",
       "9     104\n",
       "10    100\n",
       "12     99\n",
       "7      96\n",
       "3      95\n",
       "6      94\n",
       "5      93\n",
       "11     88\n",
       "Name: team, dtype: int64"
      ]
     },
     "execution_count": 12,
     "metadata": {},
     "output_type": "execute_result"
    }
   ],
   "source": [
    "#value count of team\n",
    "df.team.value_counts()"
   ]
  },
  {
   "cell_type": "code",
   "execution_count": 13,
   "id": "cf380bb1",
   "metadata": {},
   "outputs": [
    {
     "data": {
      "text/plain": [
       "0       604\n",
       "50      113\n",
       "63       61\n",
       "45       54\n",
       "30       52\n",
       "23       38\n",
       "38       29\n",
       "60       28\n",
       "40       27\n",
       "75       24\n",
       "113      21\n",
       "88       19\n",
       "34       17\n",
       "56       14\n",
       "26        9\n",
       "100       7\n",
       "55        7\n",
       "81        7\n",
       "69        6\n",
       "65        6\n",
       "70        6\n",
       "35        5\n",
       "960       5\n",
       "94        4\n",
       "44        4\n",
       "90        3\n",
       "24        2\n",
       "27        2\n",
       "49        2\n",
       "119       2\n",
       "46        2\n",
       "1080      1\n",
       "1440      1\n",
       "2880      1\n",
       "3600      1\n",
       "32        1\n",
       "1200      1\n",
       "62        1\n",
       "98        1\n",
       "33        1\n",
       "138       1\n",
       "93        1\n",
       "53        1\n",
       "29        1\n",
       "21        1\n",
       "37        1\n",
       "54        1\n",
       "25        1\n",
       "Name: incentive, dtype: int64"
      ]
     },
     "execution_count": 13,
     "metadata": {},
     "output_type": "execute_result"
    }
   ],
   "source": [
    "#value count of incentive\n",
    "df.incentive.value_counts()"
   ]
  },
  {
   "cell_type": "code",
   "execution_count": 14,
   "id": "3920c673",
   "metadata": {},
   "outputs": [
    {
     "data": {
      "text/plain": [
       "<AxesSubplot: xlabel='date', ylabel='actual_productivity'>"
      ]
     },
     "execution_count": 14,
     "metadata": {},
     "output_type": "execute_result"
    },
    {
     "data": {
      "image/png": "[encoded data removed]",
      "text/plain": [
       "<Figure size 640x480 with 1 Axes>"
      ]
     },
     "metadata": {},
     "output_type": "display_data"
    }
   ],
   "source": [
    "# relaionship of date ande actual_productivity\n",
    "sns.scatterplot(data=df, x=\"date\", y=\"actual_productivity\")"
   ]
  },
  {
   "cell_type": "code",
   "execution_count": 15,
   "id": "8237486b",
   "metadata": {},
   "outputs": [
    {
     "data": {
      "text/html": [
       "<div>\n",
       "<style scoped>\n",
       "    .dataframe tbody tr th:only-of-type {\n",
       "        vertical-align: middle;\n",
       "    }\n",
       "\n",
       "    .dataframe tbody tr th {\n",
       "        vertical-align: top;\n",
       "    }\n",
       "\n",
       "    .dataframe thead th {\n",
       "        text-align: right;\n",
       "    }\n",
       "</style>\n",
       "<table border=\"1\" class=\"dataframe\">\n",
       "  <thead>\n",
       "    <tr style=\"text-align: right;\">\n",
       "      <th></th>\n",
       "      <th>team</th>\n",
       "      <th>targeted_productivity</th>\n",
       "      <th>smv</th>\n",
       "      <th>wip</th>\n",
       "      <th>over_time</th>\n",
       "      <th>incentive</th>\n",
       "      <th>idle_time</th>\n",
       "      <th>idle_men</th>\n",
       "      <th>no_of_style_change</th>\n",
       "      <th>no_of_workers</th>\n",
       "      <th>actual_productivity</th>\n",
       "    </tr>\n",
       "  </thead>\n",
       "  <tbody>\n",
       "    <tr>\n",
       "      <th>count</th>\n",
       "      <td>1197.000000</td>\n",
       "      <td>1197.000000</td>\n",
       "      <td>1197.000000</td>\n",
       "      <td>691.000000</td>\n",
       "      <td>1197.000000</td>\n",
       "      <td>1197.000000</td>\n",
       "      <td>1197.000000</td>\n",
       "      <td>1197.000000</td>\n",
       "      <td>1197.000000</td>\n",
       "      <td>1197.000000</td>\n",
       "      <td>1197.000000</td>\n",
       "    </tr>\n",
       "    <tr>\n",
       "      <th>mean</th>\n",
       "      <td>6.426901</td>\n",
       "      <td>0.729632</td>\n",
       "      <td>15.062172</td>\n",
       "      <td>1190.465991</td>\n",
       "      <td>4567.460317</td>\n",
       "      <td>38.210526</td>\n",
       "      <td>0.730159</td>\n",
       "      <td>0.369256</td>\n",
       "      <td>0.150376</td>\n",
       "      <td>34.609858</td>\n",
       "      <td>0.735091</td>\n",
       "    </tr>\n",
       "    <tr>\n",
       "      <th>std</th>\n",
       "      <td>3.463963</td>\n",
       "      <td>0.097891</td>\n",
       "      <td>10.943219</td>\n",
       "      <td>1837.455001</td>\n",
       "      <td>3348.823563</td>\n",
       "      <td>160.182643</td>\n",
       "      <td>12.709757</td>\n",
       "      <td>3.268987</td>\n",
       "      <td>0.427848</td>\n",
       "      <td>22.197687</td>\n",
       "      <td>0.174488</td>\n",
       "    </tr>\n",
       "    <tr>\n",
       "      <th>min</th>\n",
       "      <td>1.000000</td>\n",
       "      <td>0.070000</td>\n",
       "      <td>2.900000</td>\n",
       "      <td>7.000000</td>\n",
       "      <td>0.000000</td>\n",
       "      <td>0.000000</td>\n",
       "      <td>0.000000</td>\n",
       "      <td>0.000000</td>\n",
       "      <td>0.000000</td>\n",
       "      <td>2.000000</td>\n",
       "      <td>0.233705</td>\n",
       "    </tr>\n",
       "    <tr>\n",
       "      <th>25%</th>\n",
       "      <td>3.000000</td>\n",
       "      <td>0.700000</td>\n",
       "      <td>3.940000</td>\n",
       "      <td>774.500000</td>\n",
       "      <td>1440.000000</td>\n",
       "      <td>0.000000</td>\n",
       "      <td>0.000000</td>\n",
       "      <td>0.000000</td>\n",
       "      <td>0.000000</td>\n",
       "      <td>9.000000</td>\n",
       "      <td>0.650307</td>\n",
       "    </tr>\n",
       "    <tr>\n",
       "      <th>50%</th>\n",
       "      <td>6.000000</td>\n",
       "      <td>0.750000</td>\n",
       "      <td>15.260000</td>\n",
       "      <td>1039.000000</td>\n",
       "      <td>3960.000000</td>\n",
       "      <td>0.000000</td>\n",
       "      <td>0.000000</td>\n",
       "      <td>0.000000</td>\n",
       "      <td>0.000000</td>\n",
       "      <td>34.000000</td>\n",
       "      <td>0.773333</td>\n",
       "    </tr>\n",
       "    <tr>\n",
       "      <th>75%</th>\n",
       "      <td>9.000000</td>\n",
       "      <td>0.800000</td>\n",
       "      <td>24.260000</td>\n",
       "      <td>1252.500000</td>\n",
       "      <td>6960.000000</td>\n",
       "      <td>50.000000</td>\n",
       "      <td>0.000000</td>\n",
       "      <td>0.000000</td>\n",
       "      <td>0.000000</td>\n",
       "      <td>57.000000</td>\n",
       "      <td>0.850253</td>\n",
       "    </tr>\n",
       "    <tr>\n",
       "      <th>max</th>\n",
       "      <td>12.000000</td>\n",
       "      <td>0.800000</td>\n",
       "      <td>54.560000</td>\n",
       "      <td>23122.000000</td>\n",
       "      <td>25920.000000</td>\n",
       "      <td>3600.000000</td>\n",
       "      <td>300.000000</td>\n",
       "      <td>45.000000</td>\n",
       "      <td>2.000000</td>\n",
       "      <td>89.000000</td>\n",
       "      <td>1.120437</td>\n",
       "    </tr>\n",
       "  </tbody>\n",
       "</table>\n",
       "</div>"
      ],
      "text/plain": [
       "              team  targeted_productivity          smv           wip  \\\n",
       "count  1197.000000            1197.000000  1197.000000    691.000000   \n",
       "mean      6.426901               0.729632    15.062172   1190.465991   \n",
       "std       3.463963               0.097891    10.943219   1837.455001   \n",
       "min       1.000000               0.070000     2.900000      7.000000   \n",
       "25%       3.000000               0.700000     3.940000    774.500000   \n",
       "50%       6.000000               0.750000    15.260000   1039.000000   \n",
       "75%       9.000000               0.800000    24.260000   1252.500000   \n",
       "max      12.000000               0.800000    54.560000  23122.000000   \n",
       "\n",
       "          over_time    incentive    idle_time     idle_men  \\\n",
       "count   1197.000000  1197.000000  1197.000000  1197.000000   \n",
       "mean    4567.460317    38.210526     0.730159     0.369256   \n",
       "std     3348.823563   160.182643    12.709757     3.268987   \n",
       "min        0.000000     0.000000     0.000000     0.000000   \n",
       "25%     1440.000000     0.000000     0.000000     0.000000   \n",
       "50%     3960.000000     0.000000     0.000000     0.000000   \n",
       "75%     6960.000000    50.000000     0.000000     0.000000   \n",
       "max    25920.000000  3600.000000   300.000000    45.000000   \n",
       "\n",
       "       no_of_style_change  no_of_workers  actual_productivity  \n",
       "count         1197.000000    1197.000000          1197.000000  \n",
       "mean             0.150376      34.609858             0.735091  \n",
       "std              0.427848      22.197687             0.174488  \n",
       "min              0.000000       2.000000             0.233705  \n",
       "25%              0.000000       9.000000             0.650307  \n",
       "50%              0.000000      34.000000             0.773333  \n",
       "75%              0.000000      57.000000             0.850253  \n",
       "max              2.000000      89.000000             1.120437  "
      ]
     },
     "execution_count": 15,
     "metadata": {},
     "output_type": "execute_result"
    }
   ],
   "source": [
    "# statistical summary of the dataset\n",
    "df.describe()"
   ]
  },
  {
   "cell_type": "code",
   "execution_count": 16,
   "id": "66caf839",
   "metadata": {},
   "outputs": [
    {
     "data": {
      "text/plain": [
       "date                       0\n",
       "quarter                    0\n",
       "department                 0\n",
       "day                        0\n",
       "team                       0\n",
       "targeted_productivity      0\n",
       "smv                        0\n",
       "wip                      506\n",
       "over_time                  0\n",
       "incentive                  0\n",
       "idle_time                  0\n",
       "idle_men                   0\n",
       "no_of_style_change         0\n",
       "no_of_workers              0\n",
       "actual_productivity        0\n",
       "dtype: int64"
      ]
     },
     "execution_count": 16,
     "metadata": {},
     "output_type": "execute_result"
    }
   ],
   "source": [
    "# Check for missing values\n",
    "df.isna().sum()"
   ]
  },
  {
   "cell_type": "code",
   "execution_count": 54,
   "id": "4ef8a112",
   "metadata": {},
   "outputs": [],
   "source": [
    "# Dealing with missing data in wip column\n",
    "df[\"wip\"].fillna(0, inplace = True)"
   ]
  },
  {
   "cell_type": "code",
   "execution_count": 18,
   "id": "8f244c5b",
   "metadata": {},
   "outputs": [
    {
     "data": {
      "text/plain": [
       "0"
      ]
     },
     "execution_count": 18,
     "metadata": {},
     "output_type": "execute_result"
    }
   ],
   "source": [
    "# checking if there is missing values in wip column\n",
    "df[\"wip\"].isna().sum()"
   ]
  },
  {
   "cell_type": "code",
   "execution_count": 19,
   "id": "afc43bd2",
   "metadata": {},
   "outputs": [
    {
     "data": {
      "image/png": "[encoded data removed]",
      "text/plain": [
       "<Figure size 500x400 with 2 Axes>"
      ]
     },
     "metadata": {},
     "output_type": "display_data"
    }
   ],
   "source": [
    "# Correlation heat map\n",
    "fig, ax = plt.subplots(figsize=(5, 4))\n",
    "ax = sns.heatmap(df.corr(), vmin=-1, vmax=1, \n",
    "                 cmap=sns.diverging_palette(20, 220, as_cmap=True),\n",
    "                 ax=ax)\n",
    "\n",
    "plt.tight_layout()\n",
    "plt.show()"
   ]
  },
  {
   "cell_type": "markdown",
   "id": "78c09271",
   "metadata": {},
   "source": [
    "`OBSERVATION:` targeted_productivity is highly correlated to actual_productivity"
   ]
  },
  {
   "cell_type": "markdown",
   "id": "8b65c62f",
   "metadata": {},
   "source": [
    "# HISTOGRAM"
   ]
  },
  {
   "cell_type": "markdown",
   "id": "fcce6e56",
   "metadata": {},
   "source": [
    "## targeted_productivity"
   ]
  },
  {
   "cell_type": "code",
   "execution_count": 56,
   "id": "7c29e412",
   "metadata": {},
   "outputs": [
    {
     "data": {
      "image/png": "[encoded data removed]",
      "text/plain": [
       "<Figure size 640x480 with 1 Axes>"
      ]
     },
     "metadata": {},
     "output_type": "display_data"
    }
   ],
   "source": [
    "sns.histplot(data=df, x=\"targeted_productivity\");"
   ]
  },
  {
   "cell_type": "code",
   "execution_count": 21,
   "id": "de34f757",
   "metadata": {},
   "outputs": [
    {
     "data": {
      "image/png": "[encoded data removed]",
      "text/plain": [
       "<Figure size 640x480 with 1 Axes>"
      ]
     },
     "metadata": {},
     "output_type": "display_data"
    }
   ],
   "source": [
    "hist = df.targeted_productivity.hist(bins=2)"
   ]
  },
  {
   "cell_type": "code",
   "execution_count": 22,
   "id": "d4092cfc",
   "metadata": {},
   "outputs": [
    {
     "data": {
      "image/png": "[encoded data removed]",
      "text/plain": [
       "<Figure size 640x480 with 1 Axes>"
      ]
     },
     "metadata": {},
     "output_type": "display_data"
    }
   ],
   "source": [
    "plt.hist( df.targeted_productivity, bins=2);"
   ]
  },
  {
   "cell_type": "code",
   "execution_count": 23,
   "id": "40748cab",
   "metadata": {},
   "outputs": [
    {
     "data": {
      "image/png": "[encoded data removed]",
      "text/plain": [
       "<Figure size 640x480 with 1 Axes>"
      ]
     },
     "metadata": {},
     "output_type": "display_data"
    }
   ],
   "source": [
    "fig, ax = plt.subplots()\n",
    "ax.hist(df.targeted_productivity);"
   ]
  },
  {
   "cell_type": "markdown",
   "id": "81a49e64",
   "metadata": {},
   "source": [
    "## actual_productivity"
   ]
  },
  {
   "cell_type": "code",
   "execution_count": 24,
   "id": "c1b9b4b9",
   "metadata": {},
   "outputs": [
    {
     "data": {
      "image/png": "[encoded data removed]",
      "text/plain": [
       "<Figure size 640x480 with 1 Axes>"
      ]
     },
     "metadata": {},
     "output_type": "display_data"
    }
   ],
   "source": [
    "fig, ax = plt.subplots()\n",
    "ax.hist(df.actual_productivity);"
   ]
  },
  {
   "cell_type": "markdown",
   "id": "a35f398c",
   "metadata": {},
   "source": [
    "# Add datetime parameters for date column"
   ]
  },
  {
   "cell_type": "code",
   "execution_count": 25,
   "id": "c097e7fd",
   "metadata": {},
   "outputs": [],
   "source": [
    "# Add datetime parameters for saledate\n",
    "df[\"Year\"] = df.date.dt.year\n",
    "df[\"Month\"] = df.date.dt.month\n",
    "df[\"Day\"] = df.date.dt.day\n",
    "df[\"Dayofweek\"] = df.date.dt.dayofweek\n",
    "df[\"Dayofyear\"] = df.date.dt.dayofyear\n",
    "\n",
    "# Drop original saledate\n",
    "df.drop(\"date\", axis=1, inplace=True)"
   ]
  },
  {
   "cell_type": "code",
   "execution_count": 26,
   "id": "6a71005c",
   "metadata": {},
   "outputs": [
    {
     "data": {
      "text/html": [
       "<div>\n",
       "<style scoped>\n",
       "    .dataframe tbody tr th:only-of-type {\n",
       "        vertical-align: middle;\n",
       "    }\n",
       "\n",
       "    .dataframe tbody tr th {\n",
       "        vertical-align: top;\n",
       "    }\n",
       "\n",
       "    .dataframe thead th {\n",
       "        text-align: right;\n",
       "    }\n",
       "</style>\n",
       "<table border=\"1\" class=\"dataframe\">\n",
       "  <thead>\n",
       "    <tr style=\"text-align: right;\">\n",
       "      <th></th>\n",
       "      <th>0</th>\n",
       "      <th>1</th>\n",
       "      <th>2</th>\n",
       "      <th>3</th>\n",
       "      <th>4</th>\n",
       "    </tr>\n",
       "  </thead>\n",
       "  <tbody>\n",
       "    <tr>\n",
       "      <th>quarter</th>\n",
       "      <td>Quarter1</td>\n",
       "      <td>Quarter1</td>\n",
       "      <td>Quarter1</td>\n",
       "      <td>Quarter1</td>\n",
       "      <td>Quarter1</td>\n",
       "    </tr>\n",
       "    <tr>\n",
       "      <th>department</th>\n",
       "      <td>sweing</td>\n",
       "      <td>finishing</td>\n",
       "      <td>sweing</td>\n",
       "      <td>sweing</td>\n",
       "      <td>sweing</td>\n",
       "    </tr>\n",
       "    <tr>\n",
       "      <th>day</th>\n",
       "      <td>Thursday</td>\n",
       "      <td>Thursday</td>\n",
       "      <td>Thursday</td>\n",
       "      <td>Thursday</td>\n",
       "      <td>Thursday</td>\n",
       "    </tr>\n",
       "    <tr>\n",
       "      <th>team</th>\n",
       "      <td>8</td>\n",
       "      <td>1</td>\n",
       "      <td>11</td>\n",
       "      <td>12</td>\n",
       "      <td>6</td>\n",
       "    </tr>\n",
       "    <tr>\n",
       "      <th>targeted_productivity</th>\n",
       "      <td>0.8</td>\n",
       "      <td>0.75</td>\n",
       "      <td>0.8</td>\n",
       "      <td>0.8</td>\n",
       "      <td>0.8</td>\n",
       "    </tr>\n",
       "    <tr>\n",
       "      <th>smv</th>\n",
       "      <td>26.16</td>\n",
       "      <td>3.94</td>\n",
       "      <td>11.41</td>\n",
       "      <td>11.41</td>\n",
       "      <td>25.9</td>\n",
       "    </tr>\n",
       "    <tr>\n",
       "      <th>wip</th>\n",
       "      <td>1108.0</td>\n",
       "      <td>0.0</td>\n",
       "      <td>968.0</td>\n",
       "      <td>968.0</td>\n",
       "      <td>1170.0</td>\n",
       "    </tr>\n",
       "    <tr>\n",
       "      <th>over_time</th>\n",
       "      <td>7080</td>\n",
       "      <td>960</td>\n",
       "      <td>3660</td>\n",
       "      <td>3660</td>\n",
       "      <td>1920</td>\n",
       "    </tr>\n",
       "    <tr>\n",
       "      <th>incentive</th>\n",
       "      <td>98</td>\n",
       "      <td>0</td>\n",
       "      <td>50</td>\n",
       "      <td>50</td>\n",
       "      <td>50</td>\n",
       "    </tr>\n",
       "    <tr>\n",
       "      <th>idle_time</th>\n",
       "      <td>0.0</td>\n",
       "      <td>0.0</td>\n",
       "      <td>0.0</td>\n",
       "      <td>0.0</td>\n",
       "      <td>0.0</td>\n",
       "    </tr>\n",
       "    <tr>\n",
       "      <th>idle_men</th>\n",
       "      <td>0</td>\n",
       "      <td>0</td>\n",
       "      <td>0</td>\n",
       "      <td>0</td>\n",
       "      <td>0</td>\n",
       "    </tr>\n",
       "    <tr>\n",
       "      <th>no_of_style_change</th>\n",
       "      <td>0</td>\n",
       "      <td>0</td>\n",
       "      <td>0</td>\n",
       "      <td>0</td>\n",
       "      <td>0</td>\n",
       "    </tr>\n",
       "    <tr>\n",
       "      <th>no_of_workers</th>\n",
       "      <td>59.0</td>\n",
       "      <td>8.0</td>\n",
       "      <td>30.5</td>\n",
       "      <td>30.5</td>\n",
       "      <td>56.0</td>\n",
       "    </tr>\n",
       "    <tr>\n",
       "      <th>actual_productivity</th>\n",
       "      <td>0.940725</td>\n",
       "      <td>0.8865</td>\n",
       "      <td>0.80057</td>\n",
       "      <td>0.80057</td>\n",
       "      <td>0.800382</td>\n",
       "    </tr>\n",
       "    <tr>\n",
       "      <th>Year</th>\n",
       "      <td>2015</td>\n",
       "      <td>2015</td>\n",
       "      <td>2015</td>\n",
       "      <td>2015</td>\n",
       "      <td>2015</td>\n",
       "    </tr>\n",
       "    <tr>\n",
       "      <th>Month</th>\n",
       "      <td>1</td>\n",
       "      <td>1</td>\n",
       "      <td>1</td>\n",
       "      <td>1</td>\n",
       "      <td>1</td>\n",
       "    </tr>\n",
       "    <tr>\n",
       "      <th>Day</th>\n",
       "      <td>1</td>\n",
       "      <td>1</td>\n",
       "      <td>1</td>\n",
       "      <td>1</td>\n",
       "      <td>1</td>\n",
       "    </tr>\n",
       "    <tr>\n",
       "      <th>Dayofweek</th>\n",
       "      <td>3</td>\n",
       "      <td>3</td>\n",
       "      <td>3</td>\n",
       "      <td>3</td>\n",
       "      <td>3</td>\n",
       "    </tr>\n",
       "    <tr>\n",
       "      <th>Dayofyear</th>\n",
       "      <td>1</td>\n",
       "      <td>1</td>\n",
       "      <td>1</td>\n",
       "      <td>1</td>\n",
       "      <td>1</td>\n",
       "    </tr>\n",
       "  </tbody>\n",
       "</table>\n",
       "</div>"
      ],
      "text/plain": [
       "                              0           1         2         3         4\n",
       "quarter                Quarter1    Quarter1  Quarter1  Quarter1  Quarter1\n",
       "department               sweing  finishing     sweing    sweing    sweing\n",
       "day                    Thursday    Thursday  Thursday  Thursday  Thursday\n",
       "team                          8           1        11        12         6\n",
       "targeted_productivity       0.8        0.75       0.8       0.8       0.8\n",
       "smv                       26.16        3.94     11.41     11.41      25.9\n",
       "wip                      1108.0         0.0     968.0     968.0    1170.0\n",
       "over_time                  7080         960      3660      3660      1920\n",
       "incentive                    98           0        50        50        50\n",
       "idle_time                   0.0         0.0       0.0       0.0       0.0\n",
       "idle_men                      0           0         0         0         0\n",
       "no_of_style_change            0           0         0         0         0\n",
       "no_of_workers              59.0         8.0      30.5      30.5      56.0\n",
       "actual_productivity    0.940725      0.8865   0.80057   0.80057  0.800382\n",
       "Year                       2015        2015      2015      2015      2015\n",
       "Month                         1           1         1         1         1\n",
       "Day                           1           1         1         1         1\n",
       "Dayofweek                     3           3         3         3         3\n",
       "Dayofyear                     1           1         1         1         1"
      ]
     },
     "execution_count": 26,
     "metadata": {},
     "output_type": "execute_result"
    }
   ],
   "source": [
    "df.head().T"
   ]
  },
  {
   "cell_type": "markdown",
   "id": "807f549e",
   "metadata": {},
   "source": [
    "# Handling the objects"
   ]
  },
  {
   "cell_type": "code",
   "execution_count": 27,
   "id": "108bad64",
   "metadata": {},
   "outputs": [
    {
     "name": "stdout",
     "output_type": "stream",
     "text": [
      "quarter\n",
      "department\n",
      "day\n"
     ]
    }
   ],
   "source": [
    "# These columns contain strings\n",
    "for label, content in df.items():\n",
    "    if pd.api.types.is_string_dtype(content):\n",
    "        print(label)"
   ]
  },
  {
   "cell_type": "code",
   "execution_count": 28,
   "id": "70cf3694",
   "metadata": {},
   "outputs": [],
   "source": [
    "# converting string values into category values\n",
    "for label, content in df.items():\n",
    "    if pd.api.types.is_string_dtype(content):\n",
    "        df[label] = content.astype(\"category\").cat.as_ordered()"
   ]
  },
  {
   "cell_type": "code",
   "execution_count": 29,
   "id": "0d872576",
   "metadata": {},
   "outputs": [
    {
     "name": "stdout",
     "output_type": "stream",
     "text": [
      "<class 'pandas.core.frame.DataFrame'>\n",
      "RangeIndex: 1197 entries, 0 to 1196\n",
      "Data columns (total 19 columns):\n",
      " #   Column                 Non-Null Count  Dtype   \n",
      "---  ------                 --------------  -----   \n",
      " 0   quarter                1197 non-null   category\n",
      " 1   department             1197 non-null   category\n",
      " 2   day                    1197 non-null   category\n",
      " 3   team                   1197 non-null   int64   \n",
      " 4   targeted_productivity  1197 non-null   float64 \n",
      " 5   smv                    1197 non-null   float64 \n",
      " 6   wip                    1197 non-null   float64 \n",
      " 7   over_time              1197 non-null   int64   \n",
      " 8   incentive              1197 non-null   int64   \n",
      " 9   idle_time              1197 non-null   float64 \n",
      " 10  idle_men               1197 non-null   int64   \n",
      " 11  no_of_style_change     1197 non-null   int64   \n",
      " 12  no_of_workers          1197 non-null   float64 \n",
      " 13  actual_productivity    1197 non-null   float64 \n",
      " 14  Year                   1197 non-null   int64   \n",
      " 15  Month                  1197 non-null   int64   \n",
      " 16  Day                    1197 non-null   int64   \n",
      " 17  Dayofweek              1197 non-null   int64   \n",
      " 18  Dayofyear              1197 non-null   int64   \n",
      "dtypes: category(3), float64(6), int64(10)\n",
      "memory usage: 153.8 KB\n"
     ]
    }
   ],
   "source": [
    "df.info()"
   ]
  },
  {
   "cell_type": "code",
   "execution_count": 30,
   "id": "68c4e710",
   "metadata": {},
   "outputs": [
    {
     "name": "stdout",
     "output_type": "stream",
     "text": [
      "quarter\n",
      "department\n",
      "day\n"
     ]
    }
   ],
   "source": [
    "# Check columns which *aren't* numeric\n",
    "for label, content in df.items():\n",
    "    if not pd.api.types.is_numeric_dtype(content):\n",
    "        print(label)"
   ]
  },
  {
   "cell_type": "code",
   "execution_count": 31,
   "id": "e9104918",
   "metadata": {},
   "outputs": [],
   "source": [
    "# Turn categorical variables into numbers\n",
    "for label, content in df.items():\n",
    "    # Check columns which *aren't* numeric\n",
    "    if not pd.api.types.is_numeric_dtype(content):\n",
    "      # We add the +1 because pandas encodes missing categories as -1\n",
    "        df[label] = pd.Categorical(content).codes+1  "
   ]
  },
  {
   "cell_type": "code",
   "execution_count": 32,
   "id": "bc4dd233",
   "metadata": {},
   "outputs": [
    {
     "name": "stdout",
     "output_type": "stream",
     "text": [
      "<class 'pandas.core.frame.DataFrame'>\n",
      "RangeIndex: 1197 entries, 0 to 1196\n",
      "Data columns (total 19 columns):\n",
      " #   Column                 Non-Null Count  Dtype  \n",
      "---  ------                 --------------  -----  \n",
      " 0   quarter                1197 non-null   int8   \n",
      " 1   department             1197 non-null   int8   \n",
      " 2   day                    1197 non-null   int8   \n",
      " 3   team                   1197 non-null   int64  \n",
      " 4   targeted_productivity  1197 non-null   float64\n",
      " 5   smv                    1197 non-null   float64\n",
      " 6   wip                    1197 non-null   float64\n",
      " 7   over_time              1197 non-null   int64  \n",
      " 8   incentive              1197 non-null   int64  \n",
      " 9   idle_time              1197 non-null   float64\n",
      " 10  idle_men               1197 non-null   int64  \n",
      " 11  no_of_style_change     1197 non-null   int64  \n",
      " 12  no_of_workers          1197 non-null   float64\n",
      " 13  actual_productivity    1197 non-null   float64\n",
      " 14  Year                   1197 non-null   int64  \n",
      " 15  Month                  1197 non-null   int64  \n",
      " 16  Day                    1197 non-null   int64  \n",
      " 17  Dayofweek              1197 non-null   int64  \n",
      " 18  Dayofyear              1197 non-null   int64  \n",
      "dtypes: float64(6), int64(10), int8(3)\n",
      "memory usage: 153.3 KB\n"
     ]
    }
   ],
   "source": [
    "df.info()"
   ]
  },
  {
   "cell_type": "markdown",
   "id": "a9ff2285",
   "metadata": {},
   "source": [
    "# Modeling\n",
    "## splitting data"
   ]
  },
  {
   "cell_type": "code",
   "execution_count": 33,
   "id": "1b7d23ae",
   "metadata": {},
   "outputs": [],
   "source": [
    "# Everything except target variable\n",
    "X = df.drop(\"actual_productivity\", axis=1)\n",
    "\n",
    "# Target variable\n",
    "y = df.actual_productivity.values"
   ]
  },
  {
   "cell_type": "markdown",
   "id": "b73d5e34",
   "metadata": {},
   "source": [
    "## Rescaling the data"
   ]
  },
  {
   "cell_type": "code",
   "execution_count": 34,
   "id": "0e8614aa",
   "metadata": {},
   "outputs": [
    {
     "name": "stdout",
     "output_type": "stream",
     "text": [
      "[[-1.15168784  0.78297599  0.27151595 ... -1.45397973  0.08863183\n",
      "  -1.67088893]\n",
      " [-1.15168784 -0.458378    0.27151595 ... -1.45397973  0.08863183\n",
      "  -1.67088893]\n",
      " [-1.15168784  0.78297599  0.27151595 ... -1.45397973  0.08863183\n",
      "  -1.67088893]\n",
      " ...\n",
      " [-0.32866077 -1.69973198  1.43849833 ... -0.29393591 -0.3849945\n",
      "   1.67514272]\n",
      " [-0.32866077 -1.69973198  1.43849833 ... -0.29393591 -0.3849945\n",
      "   1.67514272]\n",
      " [-0.32866077 -1.69973198  1.43849833 ... -0.29393591 -0.3849945\n",
      "   1.67514272]]\n"
     ]
    }
   ],
   "source": [
    "from sklearn.preprocessing import StandardScaler\n",
    "\n",
    "scaler = StandardScaler()\n",
    "scaled_data = scaler.fit_transform(X)\n",
    "print(scaled_data)"
   ]
  },
  {
   "cell_type": "markdown",
   "id": "c9660daa",
   "metadata": {},
   "source": [
    "# train and test split"
   ]
  },
  {
   "cell_type": "code",
   "execution_count": 35,
   "id": "5968d295",
   "metadata": {},
   "outputs": [],
   "source": [
    "from sklearn.model_selection import train_test_split, cross_val_score\n",
    "# Random seed for reproducibility\n",
    "np.random.seed(55)\n",
    "\n",
    "\n",
    "X_train, X_test, y_train, y_test = train_test_split(X, y, test_size=0.2, random_state=1)\n",
    "\n",
    "#X_train, X_valid, y_train, y_valid = train_test_split(X_train, y_train, test_size=0.25, random_state=1) # 0.25 x 0.8 = 0.2"
   ]
  },
  {
   "cell_type": "code",
   "execution_count": 36,
   "id": "4e8b1d34",
   "metadata": {},
   "outputs": [
    {
     "name": "stdout",
     "output_type": "stream",
     "text": [
      "Regression metrics on the test set\n",
      "R2 score: 0.4720617986224811\n",
      "MAE: 0.08342378026645836\n",
      "MSE: 0.016909751253813884\n"
     ]
    }
   ],
   "source": [
    "from sklearn.metrics import r2_score, mean_absolute_error, mean_squared_error\n",
    "from sklearn.ensemble import RandomForestRegressor\n",
    "from sklearn.model_selection import train_test_split\n",
    "\n",
    "\n",
    "# Create model\n",
    "model = RandomForestRegressor()\n",
    "\n",
    "# Fit model\n",
    "model.fit(X_train, y_train)\n",
    "\n",
    "# Make predictions\n",
    "y_preds = model.predict(X_test)\n",
    "\n",
    "# Evaluate model using evaluation functions\n",
    "print(\"Regression metrics on the test set\")\n",
    "print(f\"R2 score: {r2_score(y_test, y_preds)}\")\n",
    "print(f\"MAE: {mean_absolute_error(y_test, y_preds)}\")\n",
    "print(f\"MSE: {mean_squared_error(y_test, y_preds)}\")"
   ]
  },
  {
   "cell_type": "markdown",
   "id": "39bed6b7",
   "metadata": {},
   "source": [
    "# Hyperparameter tuning with RandomizedSearchCV"
   ]
  },
  {
   "cell_type": "code",
   "execution_count": 37,
   "id": "63405f4e",
   "metadata": {},
   "outputs": [
    {
     "name": "stdout",
     "output_type": "stream",
     "text": [
      "Fitting 5 folds for each of 20 candidates, totalling 100 fits\n"
     ]
    },
    {
     "data": {
      "text/html": [
       "<style>#sk-container-id-1 {color: black;background-color: white;}#sk-container-id-1 pre{padding: 0;}#sk-container-id-1 div.sk-toggleable {background-color: white;}#sk-container-id-1 label.sk-toggleable__label {cursor: pointer;display: block;width: 100%;margin-bottom: 0;padding: 0.3em;box-sizing: border-box;text-align: center;}#sk-container-id-1 label.sk-toggleable__label-arrow:before {content: \"▸\";float: left;margin-right: 0.25em;color: #696969;}#sk-container-id-1 label.sk-toggleable__label-arrow:hover:before {color: black;}#sk-container-id-1 div.sk-estimator:hover label.sk-toggleable__label-arrow:before {color: black;}#sk-container-id-1 div.sk-toggleable__content {max-height: 0;max-width: 0;overflow: hidden;text-align: left;background-color: #f0f8ff;}#sk-container-id-1 div.sk-toggleable__content pre {margin: 0.2em;color: black;border-radius: 0.25em;background-color: #f0f8ff;}#sk-container-id-1 input.sk-toggleable__control:checked~div.sk-toggleable__content {max-height: 200px;max-width: 100%;overflow: auto;}#sk-container-id-1 input.sk-toggleable__control:checked~label.sk-toggleable__label-arrow:before {content: \"▾\";}#sk-container-id-1 div.sk-estimator input.sk-toggleable__control:checked~label.sk-toggleable__label {background-color: #d4ebff;}#sk-container-id-1 div.sk-label input.sk-toggleable__control:checked~label.sk-toggleable__label {background-color: #d4ebff;}#sk-container-id-1 input.sk-hidden--visually {border: 0;clip: rect(1px 1px 1px 1px);clip: rect(1px, 1px, 1px, 1px);height: 1px;margin: -1px;overflow: hidden;padding: 0;position: absolute;width: 1px;}#sk-container-id-1 div.sk-estimator {font-family: monospace;background-color: #f0f8ff;border: 1px dotted black;border-radius: 0.25em;box-sizing: border-box;margin-bottom: 0.5em;}#sk-container-id-1 div.sk-estimator:hover {background-color: #d4ebff;}#sk-container-id-1 div.sk-parallel-item::after {content: \"\";width: 100%;border-bottom: 1px solid gray;flex-grow: 1;}#sk-container-id-1 div.sk-label:hover label.sk-toggleable__label {background-color: #d4ebff;}#sk-container-id-1 div.sk-serial::before {content: \"\";position: absolute;border-left: 1px solid gray;box-sizing: border-box;top: 0;bottom: 0;left: 50%;z-index: 0;}#sk-container-id-1 div.sk-serial {display: flex;flex-direction: column;align-items: center;background-color: white;padding-right: 0.2em;padding-left: 0.2em;position: relative;}#sk-container-id-1 div.sk-item {position: relative;z-index: 1;}#sk-container-id-1 div.sk-parallel {display: flex;align-items: stretch;justify-content: center;background-color: white;position: relative;}#sk-container-id-1 div.sk-item::before, #sk-container-id-1 div.sk-parallel-item::before {content: \"\";position: absolute;border-left: 1px solid gray;box-sizing: border-box;top: 0;bottom: 0;left: 50%;z-index: -1;}#sk-container-id-1 div.sk-parallel-item {display: flex;flex-direction: column;z-index: 1;position: relative;background-color: white;}#sk-container-id-1 div.sk-parallel-item:first-child::after {align-self: flex-end;width: 50%;}#sk-container-id-1 div.sk-parallel-item:last-child::after {align-self: flex-start;width: 50%;}#sk-container-id-1 div.sk-parallel-item:only-child::after {width: 0;}#sk-container-id-1 div.sk-dashed-wrapped {border: 1px dashed gray;margin: 0 0.4em 0.5em 0.4em;box-sizing: border-box;padding-bottom: 0.4em;background-color: white;}#sk-container-id-1 div.sk-label label {font-family: monospace;font-weight: bold;display: inline-block;line-height: 1.2em;}#sk-container-id-1 div.sk-label-container {text-align: center;}#sk-container-id-1 div.sk-container {/* jupyter's `normalize.less` sets `[hidden] { display: none; }` but bootstrap.min.css set `[hidden] { display: none !important; }` so we also need the `!important` here to be able to override the default hidden behavior on the sphinx rendered scikit-learn.org. See: https://github.com/scikit-learn/scikit-learn/issues/21755 */display: inline-block !important;position: relative;}#sk-container-id-1 div.sk-text-repr-fallback {display: none;}</style><div id=\"sk-container-id-1\" class=\"sk-top-container\"><div class=\"sk-text-repr-fallback\"><pre>RandomizedSearchCV(cv=5, estimator=RandomForestRegressor(), n_iter=20,\n",
       "                   param_distributions={&#x27;max_depth&#x27;: [None, 3, 5, 10],\n",
       "                                        &#x27;max_features&#x27;: [0.5, 1, &#x27;sqrt&#x27;,\n",
       "                                                         &#x27;auto&#x27;],\n",
       "                                        &#x27;max_samples&#x27;: [600],\n",
       "                                        &#x27;min_samples_leaf&#x27;: array([ 1,  3,  5,  7,  9, 11, 13, 15, 17, 19]),\n",
       "                                        &#x27;min_samples_split&#x27;: array([ 2,  4,  6,  8, 10, 12, 14, 16, 18]),\n",
       "                                        &#x27;n_estimators&#x27;: array([10, 20, 30, 40, 50, 60, 70, 80, 90])},\n",
       "                   verbose=True)</pre><b>In a Jupyter environment, please rerun this cell to show the HTML representation or trust the notebook. <br />On GitHub, the HTML representation is unable to render, please try loading this page with nbviewer.org.</b></div><div class=\"sk-container\" hidden><div class=\"sk-item sk-dashed-wrapped\"><div class=\"sk-label-container\"><div class=\"sk-label sk-toggleable\"><input class=\"sk-toggleable__control sk-hidden--visually\" id=\"sk-estimator-id-1\" type=\"checkbox\" ><label for=\"sk-estimator-id-1\" class=\"sk-toggleable__label sk-toggleable__label-arrow\">RandomizedSearchCV</label><div class=\"sk-toggleable__content\"><pre>RandomizedSearchCV(cv=5, estimator=RandomForestRegressor(), n_iter=20,\n",
       "                   param_distributions={&#x27;max_depth&#x27;: [None, 3, 5, 10],\n",
       "                                        &#x27;max_features&#x27;: [0.5, 1, &#x27;sqrt&#x27;,\n",
       "                                                         &#x27;auto&#x27;],\n",
       "                                        &#x27;max_samples&#x27;: [600],\n",
       "                                        &#x27;min_samples_leaf&#x27;: array([ 1,  3,  5,  7,  9, 11, 13, 15, 17, 19]),\n",
       "                                        &#x27;min_samples_split&#x27;: array([ 2,  4,  6,  8, 10, 12, 14, 16, 18]),\n",
       "                                        &#x27;n_estimators&#x27;: array([10, 20, 30, 40, 50, 60, 70, 80, 90])},\n",
       "                   verbose=True)</pre></div></div></div><div class=\"sk-parallel\"><div class=\"sk-parallel-item\"><div class=\"sk-item\"><div class=\"sk-label-container\"><div class=\"sk-label sk-toggleable\"><input class=\"sk-toggleable__control sk-hidden--visually\" id=\"sk-estimator-id-2\" type=\"checkbox\" ><label for=\"sk-estimator-id-2\" class=\"sk-toggleable__label sk-toggleable__label-arrow\">estimator: RandomForestRegressor</label><div class=\"sk-toggleable__content\"><pre>RandomForestRegressor()</pre></div></div></div><div class=\"sk-serial\"><div class=\"sk-item\"><div class=\"sk-estimator sk-toggleable\"><input class=\"sk-toggleable__control sk-hidden--visually\" id=\"sk-estimator-id-3\" type=\"checkbox\" ><label for=\"sk-estimator-id-3\" class=\"sk-toggleable__label sk-toggleable__label-arrow\">RandomForestRegressor</label><div class=\"sk-toggleable__content\"><pre>RandomForestRegressor()</pre></div></div></div></div></div></div></div></div></div></div>"
      ],
      "text/plain": [
       "RandomizedSearchCV(cv=5, estimator=RandomForestRegressor(), n_iter=20,\n",
       "                   param_distributions={'max_depth': [None, 3, 5, 10],\n",
       "                                        'max_features': [0.5, 1, 'sqrt',\n",
       "                                                         'auto'],\n",
       "                                        'max_samples': [600],\n",
       "                                        'min_samples_leaf': array([ 1,  3,  5,  7,  9, 11, 13, 15, 17, 19]),\n",
       "                                        'min_samples_split': array([ 2,  4,  6,  8, 10, 12, 14, 16, 18]),\n",
       "                                        'n_estimators': array([10, 20, 30, 40, 50, 60, 70, 80, 90])},\n",
       "                   verbose=True)"
      ]
     },
     "execution_count": 37,
     "metadata": {},
     "output_type": "execute_result"
    }
   ],
   "source": [
    "# removing warnings\n",
    "import warnings\n",
    "warnings.filterwarnings(\"ignore\")\n",
    "\n",
    "\n",
    "from sklearn.model_selection import RandomizedSearchCV\n",
    "\n",
    "# Different RandomForestClassifier hyperparameters\n",
    "rf_grid = {\"n_estimators\": np.arange(10, 100, 10),\n",
    "           \"max_depth\": [None, 3, 5, 10],\n",
    "           \"min_samples_split\": np.arange(2, 20, 2),\n",
    "           \"min_samples_leaf\": np.arange(1, 20, 2),\n",
    "           \"max_features\": [0.5, 1, \"sqrt\", \"auto\"],\n",
    "           \"max_samples\": [600]}\n",
    "\n",
    "rs_model = RandomizedSearchCV(RandomForestRegressor(),\n",
    "                              param_distributions=rf_grid,\n",
    "                              n_iter=20,\n",
    "                              cv=5,\n",
    "                              verbose=True)\n",
    "\n",
    "rs_model.fit(X_train, y_train)"
   ]
  },
  {
   "cell_type": "code",
   "execution_count": 38,
   "id": "6044b254",
   "metadata": {},
   "outputs": [
    {
     "data": {
      "text/plain": [
       "{'n_estimators': 40,\n",
       " 'min_samples_split': 2,\n",
       " 'min_samples_leaf': 1,\n",
       " 'max_samples': 600,\n",
       " 'max_features': 0.5,\n",
       " 'max_depth': None}"
      ]
     },
     "execution_count": 38,
     "metadata": {},
     "output_type": "execute_result"
    }
   ],
   "source": [
    "# Find the best parameters from the RandomizedSearch \n",
    "rs_model.best_params_"
   ]
  },
  {
   "cell_type": "markdown",
   "id": "10940b4e",
   "metadata": {},
   "source": [
    "## Train a model with the best parameters"
   ]
  },
  {
   "cell_type": "code",
   "execution_count": 39,
   "id": "3d3fada8",
   "metadata": {},
   "outputs": [
    {
     "name": "stdout",
     "output_type": "stream",
     "text": [
      "CPU times: total: 281 ms\n",
      "Wall time: 233 ms\n"
     ]
    },
    {
     "data": {
      "text/html": [
       "<style>#sk-container-id-2 {color: black;background-color: white;}#sk-container-id-2 pre{padding: 0;}#sk-container-id-2 div.sk-toggleable {background-color: white;}#sk-container-id-2 label.sk-toggleable__label {cursor: pointer;display: block;width: 100%;margin-bottom: 0;padding: 0.3em;box-sizing: border-box;text-align: center;}#sk-container-id-2 label.sk-toggleable__label-arrow:before {content: \"▸\";float: left;margin-right: 0.25em;color: #696969;}#sk-container-id-2 label.sk-toggleable__label-arrow:hover:before {color: black;}#sk-container-id-2 div.sk-estimator:hover label.sk-toggleable__label-arrow:before {color: black;}#sk-container-id-2 div.sk-toggleable__content {max-height: 0;max-width: 0;overflow: hidden;text-align: left;background-color: #f0f8ff;}#sk-container-id-2 div.sk-toggleable__content pre {margin: 0.2em;color: black;border-radius: 0.25em;background-color: #f0f8ff;}#sk-container-id-2 input.sk-toggleable__control:checked~div.sk-toggleable__content {max-height: 200px;max-width: 100%;overflow: auto;}#sk-container-id-2 input.sk-toggleable__control:checked~label.sk-toggleable__label-arrow:before {content: \"▾\";}#sk-container-id-2 div.sk-estimator input.sk-toggleable__control:checked~label.sk-toggleable__label {background-color: #d4ebff;}#sk-container-id-2 div.sk-label input.sk-toggleable__control:checked~label.sk-toggleable__label {background-color: #d4ebff;}#sk-container-id-2 input.sk-hidden--visually {border: 0;clip: rect(1px 1px 1px 1px);clip: rect(1px, 1px, 1px, 1px);height: 1px;margin: -1px;overflow: hidden;padding: 0;position: absolute;width: 1px;}#sk-container-id-2 div.sk-estimator {font-family: monospace;background-color: #f0f8ff;border: 1px dotted black;border-radius: 0.25em;box-sizing: border-box;margin-bottom: 0.5em;}#sk-container-id-2 div.sk-estimator:hover {background-color: #d4ebff;}#sk-container-id-2 div.sk-parallel-item::after {content: \"\";width: 100%;border-bottom: 1px solid gray;flex-grow: 1;}#sk-container-id-2 div.sk-label:hover label.sk-toggleable__label {background-color: #d4ebff;}#sk-container-id-2 div.sk-serial::before {content: \"\";position: absolute;border-left: 1px solid gray;box-sizing: border-box;top: 0;bottom: 0;left: 50%;z-index: 0;}#sk-container-id-2 div.sk-serial {display: flex;flex-direction: column;align-items: center;background-color: white;padding-right: 0.2em;padding-left: 0.2em;position: relative;}#sk-container-id-2 div.sk-item {position: relative;z-index: 1;}#sk-container-id-2 div.sk-parallel {display: flex;align-items: stretch;justify-content: center;background-color: white;position: relative;}#sk-container-id-2 div.sk-item::before, #sk-container-id-2 div.sk-parallel-item::before {content: \"\";position: absolute;border-left: 1px solid gray;box-sizing: border-box;top: 0;bottom: 0;left: 50%;z-index: -1;}#sk-container-id-2 div.sk-parallel-item {display: flex;flex-direction: column;z-index: 1;position: relative;background-color: white;}#sk-container-id-2 div.sk-parallel-item:first-child::after {align-self: flex-end;width: 50%;}#sk-container-id-2 div.sk-parallel-item:last-child::after {align-self: flex-start;width: 50%;}#sk-container-id-2 div.sk-parallel-item:only-child::after {width: 0;}#sk-container-id-2 div.sk-dashed-wrapped {border: 1px dashed gray;margin: 0 0.4em 0.5em 0.4em;box-sizing: border-box;padding-bottom: 0.4em;background-color: white;}#sk-container-id-2 div.sk-label label {font-family: monospace;font-weight: bold;display: inline-block;line-height: 1.2em;}#sk-container-id-2 div.sk-label-container {text-align: center;}#sk-container-id-2 div.sk-container {/* jupyter's `normalize.less` sets `[hidden] { display: none; }` but bootstrap.min.css set `[hidden] { display: none !important; }` so we also need the `!important` here to be able to override the default hidden behavior on the sphinx rendered scikit-learn.org. See: https://github.com/scikit-learn/scikit-learn/issues/21755 */display: inline-block !important;position: relative;}#sk-container-id-2 div.sk-text-repr-fallback {display: none;}</style><div id=\"sk-container-id-2\" class=\"sk-top-container\"><div class=\"sk-text-repr-fallback\"><pre>RandomForestRegressor(max_features=0.5, n_estimators=40, n_jobs=-1)</pre><b>In a Jupyter environment, please rerun this cell to show the HTML representation or trust the notebook. <br />On GitHub, the HTML representation is unable to render, please try loading this page with nbviewer.org.</b></div><div class=\"sk-container\" hidden><div class=\"sk-item\"><div class=\"sk-estimator sk-toggleable\"><input class=\"sk-toggleable__control sk-hidden--visually\" id=\"sk-estimator-id-4\" type=\"checkbox\" checked><label for=\"sk-estimator-id-4\" class=\"sk-toggleable__label sk-toggleable__label-arrow\">RandomForestRegressor</label><div class=\"sk-toggleable__content\"><pre>RandomForestRegressor(max_features=0.5, n_estimators=40, n_jobs=-1)</pre></div></div></div></div></div>"
      ],
      "text/plain": [
       "RandomForestRegressor(max_features=0.5, n_estimators=40, n_jobs=-1)"
      ]
     },
     "execution_count": 39,
     "metadata": {},
     "output_type": "execute_result"
    }
   ],
   "source": [
    "%%time\n",
    "# Most ideal hyperparameters\n",
    "ideal_model = RandomForestRegressor(n_estimators=40,\n",
    "                                    min_samples_leaf=1,\n",
    "                                    min_samples_split=2,\n",
    "                                    max_features=0.5,\n",
    "                                    n_jobs=-1,\n",
    "                                    max_samples=None)\n",
    "ideal_model.fit(X_train, y_train)"
   ]
  },
  {
   "cell_type": "code",
   "execution_count": 40,
   "id": "e8c5d9cc",
   "metadata": {},
   "outputs": [
    {
     "name": "stdout",
     "output_type": "stream",
     "text": [
      "Regression metrics on the test set\n",
      "R2 score: 0.4720617986224811\n",
      "MAE: 0.08342378026645836\n",
      "MSE: 0.016909751253813884\n"
     ]
    }
   ],
   "source": [
    "# Evaluate the RandomizedSearch model\n",
    "# Fit model\n",
    "ideal_model.fit(X_train, y_train)\n",
    "\n",
    "# Make predictions\n",
    "y_preds = model.predict(X_test)\n",
    "\n",
    "# Evaluate model using evaluation functions\n",
    "print(\"Regression metrics on the test set\")\n",
    "print(f\"R2 score: {r2_score(y_test, y_preds)}\")\n",
    "print(f\"MAE: {mean_absolute_error(y_test, y_preds)}\")\n",
    "print(f\"MSE: {mean_squared_error(y_test, y_preds)}\")"
   ]
  },
  {
   "cell_type": "markdown",
   "id": "dc8efcbc",
   "metadata": {},
   "source": [
    "# Feature Importance"
   ]
  },
  {
   "cell_type": "code",
   "execution_count": 41,
   "id": "88e8bad2",
   "metadata": {},
   "outputs": [
    {
     "data": {
      "text/plain": [
       "array([0.01585431, 0.01610193, 0.0363744 , 0.07395145, 0.23374774,\n",
       "       0.12687447, 0.02211528, 0.05645843, 0.125819  , 0.00709894,\n",
       "       0.01609808, 0.00188208, 0.07585967, 0.        , 0.00388999,\n",
       "       0.07464798, 0.02925537, 0.08397088])"
      ]
     },
     "execution_count": 41,
     "metadata": {},
     "output_type": "execute_result"
    }
   ],
   "source": [
    "# Find feature importance of our best model\n",
    "model.feature_importances_"
   ]
  },
  {
   "cell_type": "code",
   "execution_count": 42,
   "id": "b02db420",
   "metadata": {},
   "outputs": [],
   "source": [
    "# Helper function for plotting feature importance\n",
    "def plot_features(columns, importances, n=20):\n",
    "    df = (pd.DataFrame({\"features\": columns,\n",
    "                        \"feature_importance\": importances})\n",
    "          .sort_values(\"feature_importance\", ascending=False)\n",
    "          .reset_index(drop=True))\n",
    "    \n",
    "    sns.barplot(x=\"feature_importance\",\n",
    "                y=\"features\",\n",
    "                data=df[:n],\n",
    "                orient=\"h\")"
   ]
  },
  {
   "cell_type": "code",
   "execution_count": 43,
   "id": "107e7d05",
   "metadata": {},
   "outputs": [
    {
     "data": {
      "image/png": "[encoded data removed]",
      "text/plain": [
       "<Figure size 640x480 with 1 Axes>"
      ]
     },
     "metadata": {},
     "output_type": "display_data"
    }
   ],
   "source": [
    "plot_features(X_train.columns, model.feature_importances_)"
   ]
  },
  {
   "cell_type": "markdown",
   "id": "e492f4f0",
   "metadata": {},
   "source": [
    "# XGBRegressor"
   ]
  },
  {
   "cell_type": "markdown",
   "id": "8200fb07",
   "metadata": {},
   "source": [
    "## loading the required libraries. "
   ]
  },
  {
   "cell_type": "code",
   "execution_count": 44,
   "id": "2d815711",
   "metadata": {},
   "outputs": [],
   "source": [
    "import xgboost as xgb\n",
    "from sklearn.model_selection import train_test_split\n",
    "from sklearn.model_selection import cross_val_score, KFold\n",
    "from sklearn.metrics import mean_squared_error"
   ]
  },
  {
   "cell_type": "markdown",
   "id": "ad3550bc",
   "metadata": {},
   "source": [
    "## Defining and fitting the model"
   ]
  },
  {
   "cell_type": "code",
   "execution_count": 45,
   "id": "8a1a3822",
   "metadata": {},
   "outputs": [
    {
     "name": "stdout",
     "output_type": "stream",
     "text": [
      "XGBRegressor(base_score=None, booster=None, callbacks=None,\n",
      "             colsample_bylevel=None, colsample_bynode=None,\n",
      "             colsample_bytree=None, early_stopping_rounds=None,\n",
      "             enable_categorical=False, eval_metric=None, feature_types=None,\n",
      "             gamma=None, gpu_id=None, grow_policy=None, importance_type=None,\n",
      "             interaction_constraints=None, learning_rate=None, max_bin=None,\n",
      "             max_cat_threshold=None, max_cat_to_onehot=None,\n",
      "             max_delta_step=None, max_depth=None, max_leaves=None,\n",
      "             min_child_weight=None, missing=nan, monotone_constraints=None,\n",
      "             n_estimators=100, n_jobs=None, num_parallel_tree=None,\n",
      "             predictor=None, random_state=None, ...)\n"
     ]
    }
   ],
   "source": [
    "xgbr = xgb.XGBRegressor(verbosity=0) \n",
    "\n",
    "print(xgbr)\n"
   ]
  },
  {
   "cell_type": "code",
   "execution_count": 46,
   "id": "58dd56e3",
   "metadata": {},
   "outputs": [
    {
     "data": {
      "text/html": [
       "<style>#sk-container-id-3 {color: black;background-color: white;}#sk-container-id-3 pre{padding: 0;}#sk-container-id-3 div.sk-toggleable {background-color: white;}#sk-container-id-3 label.sk-toggleable__label {cursor: pointer;display: block;width: 100%;margin-bottom: 0;padding: 0.3em;box-sizing: border-box;text-align: center;}#sk-container-id-3 label.sk-toggleable__label-arrow:before {content: \"▸\";float: left;margin-right: 0.25em;color: #696969;}#sk-container-id-3 label.sk-toggleable__label-arrow:hover:before {color: black;}#sk-container-id-3 div.sk-estimator:hover label.sk-toggleable__label-arrow:before {color: black;}#sk-container-id-3 div.sk-toggleable__content {max-height: 0;max-width: 0;overflow: hidden;text-align: left;background-color: #f0f8ff;}#sk-container-id-3 div.sk-toggleable__content pre {margin: 0.2em;color: black;border-radius: 0.25em;background-color: #f0f8ff;}#sk-container-id-3 input.sk-toggleable__control:checked~div.sk-toggleable__content {max-height: 200px;max-width: 100%;overflow: auto;}#sk-container-id-3 input.sk-toggleable__control:checked~label.sk-toggleable__label-arrow:before {content: \"▾\";}#sk-container-id-3 div.sk-estimator input.sk-toggleable__control:checked~label.sk-toggleable__label {background-color: #d4ebff;}#sk-container-id-3 div.sk-label input.sk-toggleable__control:checked~label.sk-toggleable__label {background-color: #d4ebff;}#sk-container-id-3 input.sk-hidden--visually {border: 0;clip: rect(1px 1px 1px 1px);clip: rect(1px, 1px, 1px, 1px);height: 1px;margin: -1px;overflow: hidden;padding: 0;position: absolute;width: 1px;}#sk-container-id-3 div.sk-estimator {font-family: monospace;background-color: #f0f8ff;border: 1px dotted black;border-radius: 0.25em;box-sizing: border-box;margin-bottom: 0.5em;}#sk-container-id-3 div.sk-estimator:hover {background-color: #d4ebff;}#sk-container-id-3 div.sk-parallel-item::after {content: \"\";width: 100%;border-bottom: 1px solid gray;flex-grow: 1;}#sk-container-id-3 div.sk-label:hover label.sk-toggleable__label {background-color: #d4ebff;}#sk-container-id-3 div.sk-serial::before {content: \"\";position: absolute;border-left: 1px solid gray;box-sizing: border-box;top: 0;bottom: 0;left: 50%;z-index: 0;}#sk-container-id-3 div.sk-serial {display: flex;flex-direction: column;align-items: center;background-color: white;padding-right: 0.2em;padding-left: 0.2em;position: relative;}#sk-container-id-3 div.sk-item {position: relative;z-index: 1;}#sk-container-id-3 div.sk-parallel {display: flex;align-items: stretch;justify-content: center;background-color: white;position: relative;}#sk-container-id-3 div.sk-item::before, #sk-container-id-3 div.sk-parallel-item::before {content: \"\";position: absolute;border-left: 1px solid gray;box-sizing: border-box;top: 0;bottom: 0;left: 50%;z-index: -1;}#sk-container-id-3 div.sk-parallel-item {display: flex;flex-direction: column;z-index: 1;position: relative;background-color: white;}#sk-container-id-3 div.sk-parallel-item:first-child::after {align-self: flex-end;width: 50%;}#sk-container-id-3 div.sk-parallel-item:last-child::after {align-self: flex-start;width: 50%;}#sk-container-id-3 div.sk-parallel-item:only-child::after {width: 0;}#sk-container-id-3 div.sk-dashed-wrapped {border: 1px dashed gray;margin: 0 0.4em 0.5em 0.4em;box-sizing: border-box;padding-bottom: 0.4em;background-color: white;}#sk-container-id-3 div.sk-label label {font-family: monospace;font-weight: bold;display: inline-block;line-height: 1.2em;}#sk-container-id-3 div.sk-label-container {text-align: center;}#sk-container-id-3 div.sk-container {/* jupyter's `normalize.less` sets `[hidden] { display: none; }` but bootstrap.min.css set `[hidden] { display: none !important; }` so we also need the `!important` here to be able to override the default hidden behavior on the sphinx rendered scikit-learn.org. See: https://github.com/scikit-learn/scikit-learn/issues/21755 */display: inline-block !important;position: relative;}#sk-container-id-3 div.sk-text-repr-fallback {display: none;}</style><div id=\"sk-container-id-3\" class=\"sk-top-container\"><div class=\"sk-text-repr-fallback\"><pre>XGBRegressor(base_score=None, booster=None, callbacks=None,\n",
       "             colsample_bylevel=None, colsample_bynode=None,\n",
       "             colsample_bytree=None, early_stopping_rounds=None,\n",
       "             enable_categorical=False, eval_metric=None, feature_types=None,\n",
       "             gamma=None, gpu_id=None, grow_policy=None, importance_type=None,\n",
       "             interaction_constraints=None, learning_rate=None, max_bin=None,\n",
       "             max_cat_threshold=None, max_cat_to_onehot=None,\n",
       "             max_delta_step=None, max_depth=None, max_leaves=None,\n",
       "             min_child_weight=None, missing=nan, monotone_constraints=None,\n",
       "             n_estimators=100, n_jobs=None, num_parallel_tree=None,\n",
       "             predictor=None, random_state=None, ...)</pre><b>In a Jupyter environment, please rerun this cell to show the HTML representation or trust the notebook. <br />On GitHub, the HTML representation is unable to render, please try loading this page with nbviewer.org.</b></div><div class=\"sk-container\" hidden><div class=\"sk-item\"><div class=\"sk-estimator sk-toggleable\"><input class=\"sk-toggleable__control sk-hidden--visually\" id=\"sk-estimator-id-5\" type=\"checkbox\" checked><label for=\"sk-estimator-id-5\" class=\"sk-toggleable__label sk-toggleable__label-arrow\">XGBRegressor</label><div class=\"sk-toggleable__content\"><pre>XGBRegressor(base_score=None, booster=None, callbacks=None,\n",
       "             colsample_bylevel=None, colsample_bynode=None,\n",
       "             colsample_bytree=None, early_stopping_rounds=None,\n",
       "             enable_categorical=False, eval_metric=None, feature_types=None,\n",
       "             gamma=None, gpu_id=None, grow_policy=None, importance_type=None,\n",
       "             interaction_constraints=None, learning_rate=None, max_bin=None,\n",
       "             max_cat_threshold=None, max_cat_to_onehot=None,\n",
       "             max_delta_step=None, max_depth=None, max_leaves=None,\n",
       "             min_child_weight=None, missing=nan, monotone_constraints=None,\n",
       "             n_estimators=100, n_jobs=None, num_parallel_tree=None,\n",
       "             predictor=None, random_state=None, ...)</pre></div></div></div></div></div>"
      ],
      "text/plain": [
       "XGBRegressor(base_score=None, booster=None, callbacks=None,\n",
       "             colsample_bylevel=None, colsample_bynode=None,\n",
       "             colsample_bytree=None, early_stopping_rounds=None,\n",
       "             enable_categorical=False, eval_metric=None, feature_types=None,\n",
       "             gamma=None, gpu_id=None, grow_policy=None, importance_type=None,\n",
       "             interaction_constraints=None, learning_rate=None, max_bin=None,\n",
       "             max_cat_threshold=None, max_cat_to_onehot=None,\n",
       "             max_delta_step=None, max_depth=None, max_leaves=None,\n",
       "             min_child_weight=None, missing=nan, monotone_constraints=None,\n",
       "             n_estimators=100, n_jobs=None, num_parallel_tree=None,\n",
       "             predictor=None, random_state=None, ...)"
      ]
     },
     "execution_count": 46,
     "metadata": {},
     "output_type": "execute_result"
    }
   ],
   "source": [
    "# fit the model with train data\n",
    "xgbr.fit(X_train, y_train)"
   ]
  },
  {
   "cell_type": "markdown",
   "id": "24b3c354",
   "metadata": {},
   "source": [
    "# Predicting and checking the results"
   ]
  },
  {
   "cell_type": "markdown",
   "id": "2f6f72a4",
   "metadata": {},
   "source": [
    "##  check the model training score"
   ]
  },
  {
   "cell_type": "code",
   "execution_count": 47,
   "id": "0d57123e",
   "metadata": {},
   "outputs": [
    {
     "name": "stdout",
     "output_type": "stream",
     "text": [
      "Training score:  0.9951835396513102\n"
     ]
    }
   ],
   "source": [
    "score = xgbr.score(X_train, y_train)  \n",
    "\n",
    "print(\"Training score: \", score)"
   ]
  },
  {
   "cell_type": "markdown",
   "id": "38487f54",
   "metadata": {},
   "source": [
    "## KFlold method in cross-validation"
   ]
  },
  {
   "cell_type": "code",
   "execution_count": 48,
   "id": "c161332f",
   "metadata": {},
   "outputs": [
    {
     "name": "stdout",
     "output_type": "stream",
     "text": [
      "K-fold CV average score: 0.38\n"
     ]
    }
   ],
   "source": [
    "kfold = KFold(n_splits=10, shuffle=True)\n",
    "kf_cv_scores = cross_val_score(xgbr,X_train, y_train, cv=kfold )\n",
    "print(\"K-fold CV average score: %.2f\" % kf_cv_scores.mean())"
   ]
  },
  {
   "cell_type": "markdown",
   "id": "6726c0d5",
   "metadata": {},
   "source": [
    "## cross-validation method to evaluate the training score"
   ]
  },
  {
   "cell_type": "code",
   "execution_count": 49,
   "id": "94222a94",
   "metadata": {},
   "outputs": [
    {
     "name": "stdout",
     "output_type": "stream",
     "text": [
      "Mean cross-validation score: 0.38\n"
     ]
    }
   ],
   "source": [
    "scores = cross_val_score(xgbr,X_train, y_train,cv=10)\n",
    "print(\"Mean cross-validation score: %.2f\" % scores.mean())"
   ]
  },
  {
   "cell_type": "markdown",
   "id": "69ddb1bf",
   "metadata": {},
   "source": [
    "# predict test data and  check the prediction accuracy"
   ]
  },
  {
   "cell_type": "code",
   "execution_count": 50,
   "id": "6acbf398",
   "metadata": {},
   "outputs": [],
   "source": [
    "ypred = xgbr.predict(X_test)\n",
    "mse = mean_squared_error(y_test, ypred)"
   ]
  },
  {
   "cell_type": "code",
   "execution_count": 51,
   "id": "8be57581",
   "metadata": {},
   "outputs": [
    {
     "data": {
      "text/plain": [
       "0.016142756651673012"
      ]
     },
     "execution_count": 51,
     "metadata": {},
     "output_type": "execute_result"
    }
   ],
   "source": [
    "mse"
   ]
  },
  {
   "cell_type": "code",
   "execution_count": 52,
   "id": "7a207b3a",
   "metadata": {},
   "outputs": [
    {
     "name": "stdout",
     "output_type": "stream",
     "text": [
      "RMSE: 0.13\n"
     ]
    }
   ],
   "source": [
    "print(\"RMSE: %.2f\" % (mse**(1/2.0)))"
   ]
  },
  {
   "cell_type": "markdown",
   "id": "f607feb6",
   "metadata": {},
   "source": [
    "## visualize the original and predicted test data"
   ]
  },
  {
   "cell_type": "code",
   "execution_count": 53,
   "id": "0120d30d",
   "metadata": {},
   "outputs": [
    {
     "data": {
      "image/png": "[encoded data removed]",
      "text/plain": [
       "<Figure size 640x480 with 1 Axes>"
      ]
     },
     "metadata": {},
     "output_type": "display_data"
    }
   ],
   "source": [
    "x_ax = range(len(y_test))\n",
    "plt.plot(x_ax, y_test, label=\"original\")\n",
    "plt.plot(x_ax, ypred, label=\"predicted\")\n",
    "\n",
    "plt.title(\"Test value and predicted data\")\n",
    "\n",
    "plt.legend()\n",
    "plt.show()"
   ]
  },
  {
   "cell_type": "code",
   "execution_count": null,
   "id": "82f6e962",
   "metadata": {},
   "outputs": [],
   "source": []
  }
 ],
 "metadata": {
  "kernelspec": {
   "display_name": "Python 3 (ipykernel)",
   "language": "python",
   "name": "python3"
  },
  "language_info": {
   "codemirror_mode": {
    "name": "ipython",
    "version": 3
   },
   "file_extension": ".py",
   "mimetype": "text/x-python",
   "name": "python",
   "nbconvert_exporter": "python",
   "pygments_lexer": "ipython3",
   "version": "3.9.12"
  }
 },
 "nbformat": 4,
 "nbformat_minor": 5
}
